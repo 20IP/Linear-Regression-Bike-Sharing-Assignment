{
 "cells": [
  {
   "cell_type": "code",
   "execution_count": 1,
   "id": "b31a2d0a-45e3-4e57-becf-9201c540ce0b",
   "metadata": {},
   "outputs": [],
   "source": [
    "import warnings\n",
    "warnings.filterwarnings('ignore')"
   ]
  },
  {
   "cell_type": "code",
   "execution_count": 2,
   "id": "fb362884-dc5f-4765-85c3-fc5f627c9131",
   "metadata": {},
   "outputs": [],
   "source": [
    "import numpy as np\n",
    "import matplotlib.pyplot as plt\n",
    "import matplotlib\n",
    "import pandas as pd\n",
    "import seaborn as sns\n",
    "import calendar\n",
    "from datetime import datetime\n",
    "import statsmodels\n",
    "import statsmodels.api as sm\n",
    "import sklearn\n",
    "from statsmodels.stats.outliers_influence import variance_inflation_factor\n",
    "from statsmodels.tools.tools import add_constant\n",
    "from sklearn.model_selection import train_test_split\n",
    "from sklearn.preprocessing import MinMaxScaler\n",
    "from sklearn.linear_model import LinearRegression\n",
    "from sklearn.feature_selection import RFE\n",
    "from sklearn.metrics import mean_squared_error, r2_score"
   ]
  },
  {
   "cell_type": "code",
   "execution_count": 3,
   "id": "c774af77-f8bf-461b-ab60-55271bf1a111",
   "metadata": {},
   "outputs": [
    {
     "name": "stdout",
     "output_type": "stream",
     "text": [
      "Numpy version \t 1.22.3\n",
      "Matplotlib version \t 3.5.1\n",
      "Pandas version \t 1.4.2\n",
      "Seaborn version \t 0.11.2\n",
      "Seaborn version \t 0.11.2\n",
      "statsmodels version \t 0.13.2\n",
      "sklearn version \t 1.0.2\n"
     ]
    }
   ],
   "source": [
    "print('Numpy version \\t', np.__version__)\n",
    "print('Matplotlib version \\t', matplotlib.__version__)\n",
    "print('Pandas version \\t', pd.__version__)\n",
    "print('Seaborn version \\t', sns.__version__)\n",
    "print('Seaborn version \\t', sns.__version__)\n",
    "print('statsmodels version \\t', statsmodels.__version__)\n",
    "print('sklearn version \\t', sklearn.__version__)"
   ]
  },
  {
   "cell_type": "markdown",
   "id": "ce1ae01b-641b-4502-86d5-fee5f2abd291",
   "metadata": {},
   "source": [
    "## Reading and Analysis Data"
   ]
  },
  {
   "cell_type": "code",
   "execution_count": 4,
   "id": "644da8be-f0fd-43a3-8b6b-071b4dc6754c",
   "metadata": {},
   "outputs": [
    {
     "data": {
      "text/html": [
       "<div>\n",
       "<style scoped>\n",
       "    .dataframe tbody tr th:only-of-type {\n",
       "        vertical-align: middle;\n",
       "    }\n",
       "\n",
       "    .dataframe tbody tr th {\n",
       "        vertical-align: top;\n",
       "    }\n",
       "\n",
       "    .dataframe thead th {\n",
       "        text-align: right;\n",
       "    }\n",
       "</style>\n",
       "<table border=\"1\" class=\"dataframe\">\n",
       "  <thead>\n",
       "    <tr style=\"text-align: right;\">\n",
       "      <th></th>\n",
       "      <th>instant</th>\n",
       "      <th>dteday</th>\n",
       "      <th>season</th>\n",
       "      <th>yr</th>\n",
       "      <th>mnth</th>\n",
       "      <th>holiday</th>\n",
       "      <th>weekday</th>\n",
       "      <th>workingday</th>\n",
       "      <th>weathersit</th>\n",
       "      <th>temp</th>\n",
       "      <th>atemp</th>\n",
       "      <th>hum</th>\n",
       "      <th>windspeed</th>\n",
       "      <th>casual</th>\n",
       "      <th>registered</th>\n",
       "      <th>cnt</th>\n",
       "    </tr>\n",
       "  </thead>\n",
       "  <tbody>\n",
       "    <tr>\n",
       "      <th>0</th>\n",
       "      <td>1</td>\n",
       "      <td>01-01-2018</td>\n",
       "      <td>1</td>\n",
       "      <td>0</td>\n",
       "      <td>1</td>\n",
       "      <td>0</td>\n",
       "      <td>6</td>\n",
       "      <td>0</td>\n",
       "      <td>2</td>\n",
       "      <td>14.110847</td>\n",
       "      <td>18.18125</td>\n",
       "      <td>80.5833</td>\n",
       "      <td>10.749882</td>\n",
       "      <td>331</td>\n",
       "      <td>654</td>\n",
       "      <td>985</td>\n",
       "    </tr>\n",
       "    <tr>\n",
       "      <th>1</th>\n",
       "      <td>2</td>\n",
       "      <td>02-01-2018</td>\n",
       "      <td>1</td>\n",
       "      <td>0</td>\n",
       "      <td>1</td>\n",
       "      <td>0</td>\n",
       "      <td>0</td>\n",
       "      <td>0</td>\n",
       "      <td>2</td>\n",
       "      <td>14.902598</td>\n",
       "      <td>17.68695</td>\n",
       "      <td>69.6087</td>\n",
       "      <td>16.652113</td>\n",
       "      <td>131</td>\n",
       "      <td>670</td>\n",
       "      <td>801</td>\n",
       "    </tr>\n",
       "    <tr>\n",
       "      <th>2</th>\n",
       "      <td>3</td>\n",
       "      <td>03-01-2018</td>\n",
       "      <td>1</td>\n",
       "      <td>0</td>\n",
       "      <td>1</td>\n",
       "      <td>0</td>\n",
       "      <td>1</td>\n",
       "      <td>1</td>\n",
       "      <td>1</td>\n",
       "      <td>8.050924</td>\n",
       "      <td>9.47025</td>\n",
       "      <td>43.7273</td>\n",
       "      <td>16.636703</td>\n",
       "      <td>120</td>\n",
       "      <td>1229</td>\n",
       "      <td>1349</td>\n",
       "    </tr>\n",
       "    <tr>\n",
       "      <th>3</th>\n",
       "      <td>4</td>\n",
       "      <td>04-01-2018</td>\n",
       "      <td>1</td>\n",
       "      <td>0</td>\n",
       "      <td>1</td>\n",
       "      <td>0</td>\n",
       "      <td>2</td>\n",
       "      <td>1</td>\n",
       "      <td>1</td>\n",
       "      <td>8.200000</td>\n",
       "      <td>10.60610</td>\n",
       "      <td>59.0435</td>\n",
       "      <td>10.739832</td>\n",
       "      <td>108</td>\n",
       "      <td>1454</td>\n",
       "      <td>1562</td>\n",
       "    </tr>\n",
       "    <tr>\n",
       "      <th>4</th>\n",
       "      <td>5</td>\n",
       "      <td>05-01-2018</td>\n",
       "      <td>1</td>\n",
       "      <td>0</td>\n",
       "      <td>1</td>\n",
       "      <td>0</td>\n",
       "      <td>3</td>\n",
       "      <td>1</td>\n",
       "      <td>1</td>\n",
       "      <td>9.305237</td>\n",
       "      <td>11.46350</td>\n",
       "      <td>43.6957</td>\n",
       "      <td>12.522300</td>\n",
       "      <td>82</td>\n",
       "      <td>1518</td>\n",
       "      <td>1600</td>\n",
       "    </tr>\n",
       "  </tbody>\n",
       "</table>\n",
       "</div>"
      ],
      "text/plain": [
       "   instant      dteday  season  yr  mnth  holiday  weekday  workingday  \\\n",
       "0        1  01-01-2018       1   0     1        0        6           0   \n",
       "1        2  02-01-2018       1   0     1        0        0           0   \n",
       "2        3  03-01-2018       1   0     1        0        1           1   \n",
       "3        4  04-01-2018       1   0     1        0        2           1   \n",
       "4        5  05-01-2018       1   0     1        0        3           1   \n",
       "\n",
       "   weathersit       temp     atemp      hum  windspeed  casual  registered  \\\n",
       "0           2  14.110847  18.18125  80.5833  10.749882     331         654   \n",
       "1           2  14.902598  17.68695  69.6087  16.652113     131         670   \n",
       "2           1   8.050924   9.47025  43.7273  16.636703     120        1229   \n",
       "3           1   8.200000  10.60610  59.0435  10.739832     108        1454   \n",
       "4           1   9.305237  11.46350  43.6957  12.522300      82        1518   \n",
       "\n",
       "    cnt  \n",
       "0   985  \n",
       "1   801  \n",
       "2  1349  \n",
       "3  1562  \n",
       "4  1600  "
      ]
     },
     "execution_count": 4,
     "metadata": {},
     "output_type": "execute_result"
    }
   ],
   "source": [
    "dfbike = pd.read_csv('day.csv')\n",
    "dfbike.head()"
   ]
  },
  {
   "cell_type": "code",
   "execution_count": 5,
   "id": "cb13d0d7-e0a1-4b2e-b20d-d42078783f7d",
   "metadata": {},
   "outputs": [
    {
     "name": "stdout",
     "output_type": "stream",
     "text": [
      "<class 'pandas.core.frame.DataFrame'>\n",
      "RangeIndex: 730 entries, 0 to 729\n",
      "Data columns (total 16 columns):\n",
      " #   Column      Non-Null Count  Dtype  \n",
      "---  ------      --------------  -----  \n",
      " 0   instant     730 non-null    int64  \n",
      " 1   dteday      730 non-null    object \n",
      " 2   season      730 non-null    int64  \n",
      " 3   yr          730 non-null    int64  \n",
      " 4   mnth        730 non-null    int64  \n",
      " 5   holiday     730 non-null    int64  \n",
      " 6   weekday     730 non-null    int64  \n",
      " 7   workingday  730 non-null    int64  \n",
      " 8   weathersit  730 non-null    int64  \n",
      " 9   temp        730 non-null    float64\n",
      " 10  atemp       730 non-null    float64\n",
      " 11  hum         730 non-null    float64\n",
      " 12  windspeed   730 non-null    float64\n",
      " 13  casual      730 non-null    int64  \n",
      " 14  registered  730 non-null    int64  \n",
      " 15  cnt         730 non-null    int64  \n",
      "dtypes: float64(4), int64(11), object(1)\n",
      "memory usage: 91.4+ KB\n"
     ]
    }
   ],
   "source": [
    "dfbike.info()"
   ]
  },
  {
   "cell_type": "code",
   "execution_count": 6,
   "id": "c82df750-e56e-43a6-b8d9-6609a4a09f1d",
   "metadata": {},
   "outputs": [
    {
     "data": {
      "text/plain": [
       "instant       0\n",
       "dteday        0\n",
       "season        0\n",
       "yr            0\n",
       "mnth          0\n",
       "holiday       0\n",
       "weekday       0\n",
       "workingday    0\n",
       "weathersit    0\n",
       "temp          0\n",
       "atemp         0\n",
       "hum           0\n",
       "windspeed     0\n",
       "casual        0\n",
       "registered    0\n",
       "cnt           0\n",
       "dtype: int64"
      ]
     },
     "execution_count": 6,
     "metadata": {},
     "output_type": "execute_result"
    }
   ],
   "source": [
    "dfbike.isnull().sum()"
   ]
  },
  {
   "cell_type": "markdown",
   "id": "f81f05ef-1cec-4742-85c3-4b0da290ebcd",
   "metadata": {},
   "source": [
    "__data have no Nan and null data__"
   ]
  },
  {
   "cell_type": "code",
   "execution_count": 7,
   "id": "fe3adc1e-b186-467a-876a-875532023980",
   "metadata": {},
   "outputs": [
    {
     "data": {
      "text/html": [
       "<div>\n",
       "<style scoped>\n",
       "    .dataframe tbody tr th:only-of-type {\n",
       "        vertical-align: middle;\n",
       "    }\n",
       "\n",
       "    .dataframe tbody tr th {\n",
       "        vertical-align: top;\n",
       "    }\n",
       "\n",
       "    .dataframe thead th {\n",
       "        text-align: right;\n",
       "    }\n",
       "</style>\n",
       "<table border=\"1\" class=\"dataframe\">\n",
       "  <thead>\n",
       "    <tr style=\"text-align: right;\">\n",
       "      <th></th>\n",
       "      <th>instant</th>\n",
       "      <th>season</th>\n",
       "      <th>yr</th>\n",
       "      <th>mnth</th>\n",
       "      <th>holiday</th>\n",
       "      <th>weekday</th>\n",
       "      <th>workingday</th>\n",
       "      <th>weathersit</th>\n",
       "      <th>temp</th>\n",
       "      <th>atemp</th>\n",
       "      <th>hum</th>\n",
       "      <th>windspeed</th>\n",
       "      <th>casual</th>\n",
       "      <th>registered</th>\n",
       "      <th>cnt</th>\n",
       "    </tr>\n",
       "  </thead>\n",
       "  <tbody>\n",
       "    <tr>\n",
       "      <th>count</th>\n",
       "      <td>730.000000</td>\n",
       "      <td>730.000000</td>\n",
       "      <td>730.000000</td>\n",
       "      <td>730.000000</td>\n",
       "      <td>730.000000</td>\n",
       "      <td>730.000000</td>\n",
       "      <td>730.000000</td>\n",
       "      <td>730.000000</td>\n",
       "      <td>730.000000</td>\n",
       "      <td>730.000000</td>\n",
       "      <td>730.000000</td>\n",
       "      <td>730.000000</td>\n",
       "      <td>730.000000</td>\n",
       "      <td>730.000000</td>\n",
       "      <td>730.000000</td>\n",
       "    </tr>\n",
       "    <tr>\n",
       "      <th>mean</th>\n",
       "      <td>365.500000</td>\n",
       "      <td>2.498630</td>\n",
       "      <td>0.500000</td>\n",
       "      <td>6.526027</td>\n",
       "      <td>0.028767</td>\n",
       "      <td>2.997260</td>\n",
       "      <td>0.683562</td>\n",
       "      <td>1.394521</td>\n",
       "      <td>20.319259</td>\n",
       "      <td>23.726322</td>\n",
       "      <td>62.765175</td>\n",
       "      <td>12.763620</td>\n",
       "      <td>849.249315</td>\n",
       "      <td>3658.757534</td>\n",
       "      <td>4508.006849</td>\n",
       "    </tr>\n",
       "    <tr>\n",
       "      <th>std</th>\n",
       "      <td>210.877136</td>\n",
       "      <td>1.110184</td>\n",
       "      <td>0.500343</td>\n",
       "      <td>3.450215</td>\n",
       "      <td>0.167266</td>\n",
       "      <td>2.006161</td>\n",
       "      <td>0.465405</td>\n",
       "      <td>0.544807</td>\n",
       "      <td>7.506729</td>\n",
       "      <td>8.150308</td>\n",
       "      <td>14.237589</td>\n",
       "      <td>5.195841</td>\n",
       "      <td>686.479875</td>\n",
       "      <td>1559.758728</td>\n",
       "      <td>1936.011647</td>\n",
       "    </tr>\n",
       "    <tr>\n",
       "      <th>min</th>\n",
       "      <td>1.000000</td>\n",
       "      <td>1.000000</td>\n",
       "      <td>0.000000</td>\n",
       "      <td>1.000000</td>\n",
       "      <td>0.000000</td>\n",
       "      <td>0.000000</td>\n",
       "      <td>0.000000</td>\n",
       "      <td>1.000000</td>\n",
       "      <td>2.424346</td>\n",
       "      <td>3.953480</td>\n",
       "      <td>0.000000</td>\n",
       "      <td>1.500244</td>\n",
       "      <td>2.000000</td>\n",
       "      <td>20.000000</td>\n",
       "      <td>22.000000</td>\n",
       "    </tr>\n",
       "    <tr>\n",
       "      <th>25%</th>\n",
       "      <td>183.250000</td>\n",
       "      <td>2.000000</td>\n",
       "      <td>0.000000</td>\n",
       "      <td>4.000000</td>\n",
       "      <td>0.000000</td>\n",
       "      <td>1.000000</td>\n",
       "      <td>0.000000</td>\n",
       "      <td>1.000000</td>\n",
       "      <td>13.811885</td>\n",
       "      <td>16.889713</td>\n",
       "      <td>52.000000</td>\n",
       "      <td>9.041650</td>\n",
       "      <td>316.250000</td>\n",
       "      <td>2502.250000</td>\n",
       "      <td>3169.750000</td>\n",
       "    </tr>\n",
       "    <tr>\n",
       "      <th>50%</th>\n",
       "      <td>365.500000</td>\n",
       "      <td>3.000000</td>\n",
       "      <td>0.500000</td>\n",
       "      <td>7.000000</td>\n",
       "      <td>0.000000</td>\n",
       "      <td>3.000000</td>\n",
       "      <td>1.000000</td>\n",
       "      <td>1.000000</td>\n",
       "      <td>20.465826</td>\n",
       "      <td>24.368225</td>\n",
       "      <td>62.625000</td>\n",
       "      <td>12.125325</td>\n",
       "      <td>717.000000</td>\n",
       "      <td>3664.500000</td>\n",
       "      <td>4548.500000</td>\n",
       "    </tr>\n",
       "    <tr>\n",
       "      <th>75%</th>\n",
       "      <td>547.750000</td>\n",
       "      <td>3.000000</td>\n",
       "      <td>1.000000</td>\n",
       "      <td>10.000000</td>\n",
       "      <td>0.000000</td>\n",
       "      <td>5.000000</td>\n",
       "      <td>1.000000</td>\n",
       "      <td>2.000000</td>\n",
       "      <td>26.880615</td>\n",
       "      <td>30.445775</td>\n",
       "      <td>72.989575</td>\n",
       "      <td>15.625589</td>\n",
       "      <td>1096.500000</td>\n",
       "      <td>4783.250000</td>\n",
       "      <td>5966.000000</td>\n",
       "    </tr>\n",
       "    <tr>\n",
       "      <th>max</th>\n",
       "      <td>730.000000</td>\n",
       "      <td>4.000000</td>\n",
       "      <td>1.000000</td>\n",
       "      <td>12.000000</td>\n",
       "      <td>1.000000</td>\n",
       "      <td>6.000000</td>\n",
       "      <td>1.000000</td>\n",
       "      <td>3.000000</td>\n",
       "      <td>35.328347</td>\n",
       "      <td>42.044800</td>\n",
       "      <td>97.250000</td>\n",
       "      <td>34.000021</td>\n",
       "      <td>3410.000000</td>\n",
       "      <td>6946.000000</td>\n",
       "      <td>8714.000000</td>\n",
       "    </tr>\n",
       "  </tbody>\n",
       "</table>\n",
       "</div>"
      ],
      "text/plain": [
       "          instant      season          yr        mnth     holiday     weekday  \\\n",
       "count  730.000000  730.000000  730.000000  730.000000  730.000000  730.000000   \n",
       "mean   365.500000    2.498630    0.500000    6.526027    0.028767    2.997260   \n",
       "std    210.877136    1.110184    0.500343    3.450215    0.167266    2.006161   \n",
       "min      1.000000    1.000000    0.000000    1.000000    0.000000    0.000000   \n",
       "25%    183.250000    2.000000    0.000000    4.000000    0.000000    1.000000   \n",
       "50%    365.500000    3.000000    0.500000    7.000000    0.000000    3.000000   \n",
       "75%    547.750000    3.000000    1.000000   10.000000    0.000000    5.000000   \n",
       "max    730.000000    4.000000    1.000000   12.000000    1.000000    6.000000   \n",
       "\n",
       "       workingday  weathersit        temp       atemp         hum   windspeed  \\\n",
       "count  730.000000  730.000000  730.000000  730.000000  730.000000  730.000000   \n",
       "mean     0.683562    1.394521   20.319259   23.726322   62.765175   12.763620   \n",
       "std      0.465405    0.544807    7.506729    8.150308   14.237589    5.195841   \n",
       "min      0.000000    1.000000    2.424346    3.953480    0.000000    1.500244   \n",
       "25%      0.000000    1.000000   13.811885   16.889713   52.000000    9.041650   \n",
       "50%      1.000000    1.000000   20.465826   24.368225   62.625000   12.125325   \n",
       "75%      1.000000    2.000000   26.880615   30.445775   72.989575   15.625589   \n",
       "max      1.000000    3.000000   35.328347   42.044800   97.250000   34.000021   \n",
       "\n",
       "            casual   registered          cnt  \n",
       "count   730.000000   730.000000   730.000000  \n",
       "mean    849.249315  3658.757534  4508.006849  \n",
       "std     686.479875  1559.758728  1936.011647  \n",
       "min       2.000000    20.000000    22.000000  \n",
       "25%     316.250000  2502.250000  3169.750000  \n",
       "50%     717.000000  3664.500000  4548.500000  \n",
       "75%    1096.500000  4783.250000  5966.000000  \n",
       "max    3410.000000  6946.000000  8714.000000  "
      ]
     },
     "execution_count": 7,
     "metadata": {},
     "output_type": "execute_result"
    }
   ],
   "source": [
    "dfbike.describe()"
   ]
  },
  {
   "cell_type": "code",
   "execution_count": 8,
   "id": "2b0185c7-7b73-4a17-adbd-98fcdd86cbd1",
   "metadata": {},
   "outputs": [
    {
     "data": {
      "text/plain": [
       "(730, 16)"
      ]
     },
     "execution_count": 8,
     "metadata": {},
     "output_type": "execute_result"
    }
   ],
   "source": [
    "dfbike.shape"
   ]
  },
  {
   "cell_type": "code",
   "execution_count": 9,
   "id": "a824c9a3-2cf7-4966-8cb5-78f38630c7f2",
   "metadata": {},
   "outputs": [
    {
     "data": {
      "text/html": [
       "<div>\n",
       "<style scoped>\n",
       "    .dataframe tbody tr th:only-of-type {\n",
       "        vertical-align: middle;\n",
       "    }\n",
       "\n",
       "    .dataframe tbody tr th {\n",
       "        vertical-align: top;\n",
       "    }\n",
       "\n",
       "    .dataframe thead th {\n",
       "        text-align: right;\n",
       "    }\n",
       "</style>\n",
       "<table border=\"1\" class=\"dataframe\">\n",
       "  <thead>\n",
       "    <tr style=\"text-align: right;\">\n",
       "      <th></th>\n",
       "      <th>instant</th>\n",
       "      <th>dteday</th>\n",
       "      <th>season</th>\n",
       "      <th>yr</th>\n",
       "      <th>mnth</th>\n",
       "      <th>holiday</th>\n",
       "      <th>weekday</th>\n",
       "      <th>workingday</th>\n",
       "      <th>weathersit</th>\n",
       "      <th>temp</th>\n",
       "      <th>atemp</th>\n",
       "      <th>hum</th>\n",
       "      <th>windspeed</th>\n",
       "      <th>casual</th>\n",
       "      <th>registered</th>\n",
       "      <th>cnt</th>\n",
       "    </tr>\n",
       "  </thead>\n",
       "  <tbody>\n",
       "    <tr>\n",
       "      <th>0</th>\n",
       "      <td>1</td>\n",
       "      <td>01-01-2018</td>\n",
       "      <td>1</td>\n",
       "      <td>0</td>\n",
       "      <td>1</td>\n",
       "      <td>0</td>\n",
       "      <td>6</td>\n",
       "      <td>0</td>\n",
       "      <td>2</td>\n",
       "      <td>14.110847</td>\n",
       "      <td>18.18125</td>\n",
       "      <td>80.5833</td>\n",
       "      <td>10.749882</td>\n",
       "      <td>331</td>\n",
       "      <td>654</td>\n",
       "      <td>985</td>\n",
       "    </tr>\n",
       "    <tr>\n",
       "      <th>1</th>\n",
       "      <td>2</td>\n",
       "      <td>02-01-2018</td>\n",
       "      <td>1</td>\n",
       "      <td>0</td>\n",
       "      <td>1</td>\n",
       "      <td>0</td>\n",
       "      <td>0</td>\n",
       "      <td>0</td>\n",
       "      <td>2</td>\n",
       "      <td>14.902598</td>\n",
       "      <td>17.68695</td>\n",
       "      <td>69.6087</td>\n",
       "      <td>16.652113</td>\n",
       "      <td>131</td>\n",
       "      <td>670</td>\n",
       "      <td>801</td>\n",
       "    </tr>\n",
       "    <tr>\n",
       "      <th>2</th>\n",
       "      <td>3</td>\n",
       "      <td>03-01-2018</td>\n",
       "      <td>1</td>\n",
       "      <td>0</td>\n",
       "      <td>1</td>\n",
       "      <td>0</td>\n",
       "      <td>1</td>\n",
       "      <td>1</td>\n",
       "      <td>1</td>\n",
       "      <td>8.050924</td>\n",
       "      <td>9.47025</td>\n",
       "      <td>43.7273</td>\n",
       "      <td>16.636703</td>\n",
       "      <td>120</td>\n",
       "      <td>1229</td>\n",
       "      <td>1349</td>\n",
       "    </tr>\n",
       "    <tr>\n",
       "      <th>3</th>\n",
       "      <td>4</td>\n",
       "      <td>04-01-2018</td>\n",
       "      <td>1</td>\n",
       "      <td>0</td>\n",
       "      <td>1</td>\n",
       "      <td>0</td>\n",
       "      <td>2</td>\n",
       "      <td>1</td>\n",
       "      <td>1</td>\n",
       "      <td>8.200000</td>\n",
       "      <td>10.60610</td>\n",
       "      <td>59.0435</td>\n",
       "      <td>10.739832</td>\n",
       "      <td>108</td>\n",
       "      <td>1454</td>\n",
       "      <td>1562</td>\n",
       "    </tr>\n",
       "    <tr>\n",
       "      <th>4</th>\n",
       "      <td>5</td>\n",
       "      <td>05-01-2018</td>\n",
       "      <td>1</td>\n",
       "      <td>0</td>\n",
       "      <td>1</td>\n",
       "      <td>0</td>\n",
       "      <td>3</td>\n",
       "      <td>1</td>\n",
       "      <td>1</td>\n",
       "      <td>9.305237</td>\n",
       "      <td>11.46350</td>\n",
       "      <td>43.6957</td>\n",
       "      <td>12.522300</td>\n",
       "      <td>82</td>\n",
       "      <td>1518</td>\n",
       "      <td>1600</td>\n",
       "    </tr>\n",
       "  </tbody>\n",
       "</table>\n",
       "</div>"
      ],
      "text/plain": [
       "   instant      dteday  season  yr  mnth  holiday  weekday  workingday  \\\n",
       "0        1  01-01-2018       1   0     1        0        6           0   \n",
       "1        2  02-01-2018       1   0     1        0        0           0   \n",
       "2        3  03-01-2018       1   0     1        0        1           1   \n",
       "3        4  04-01-2018       1   0     1        0        2           1   \n",
       "4        5  05-01-2018       1   0     1        0        3           1   \n",
       "\n",
       "   weathersit       temp     atemp      hum  windspeed  casual  registered  \\\n",
       "0           2  14.110847  18.18125  80.5833  10.749882     331         654   \n",
       "1           2  14.902598  17.68695  69.6087  16.652113     131         670   \n",
       "2           1   8.050924   9.47025  43.7273  16.636703     120        1229   \n",
       "3           1   8.200000  10.60610  59.0435  10.739832     108        1454   \n",
       "4           1   9.305237  11.46350  43.6957  12.522300      82        1518   \n",
       "\n",
       "    cnt  \n",
       "0   985  \n",
       "1   801  \n",
       "2  1349  \n",
       "3  1562  \n",
       "4  1600  "
      ]
     },
     "execution_count": 9,
     "metadata": {},
     "output_type": "execute_result"
    }
   ],
   "source": [
    "dfbike.head()"
   ]
  },
  {
   "cell_type": "markdown",
   "id": "e24c2a19-85e1-4698-bf6f-8158a9b1a441",
   "metadata": {},
   "source": [
    "> ['instant'] is the index so it can be dropped </br>\n",
    "> ['dteday'] can be represented by columns year, month ... so it can also be omitted </br>\n",
    "> ['casual', 'registered'] is represented via cnt so it doesn't bring much value </br>\n",
    "> ['atemp'] and ['are'] only correlated, so it can be omitted </br>"
   ]
  },
  {
   "cell_type": "code",
   "execution_count": 10,
   "id": "ea469faf-51b9-4e5d-83b8-fdb82580a938",
   "metadata": {},
   "outputs": [],
   "source": [
    "dfbike.drop(['instant','dteday','casual','atemp','registered'],axis=1,inplace=True)"
   ]
  },
  {
   "cell_type": "code",
   "execution_count": 11,
   "id": "8e736464-8be2-4765-91ec-0b7c4e84771f",
   "metadata": {},
   "outputs": [
    {
     "data": {
      "text/html": [
       "<div>\n",
       "<style scoped>\n",
       "    .dataframe tbody tr th:only-of-type {\n",
       "        vertical-align: middle;\n",
       "    }\n",
       "\n",
       "    .dataframe tbody tr th {\n",
       "        vertical-align: top;\n",
       "    }\n",
       "\n",
       "    .dataframe thead th {\n",
       "        text-align: right;\n",
       "    }\n",
       "</style>\n",
       "<table border=\"1\" class=\"dataframe\">\n",
       "  <thead>\n",
       "    <tr style=\"text-align: right;\">\n",
       "      <th></th>\n",
       "      <th>season</th>\n",
       "      <th>yr</th>\n",
       "      <th>mnth</th>\n",
       "      <th>holiday</th>\n",
       "      <th>weekday</th>\n",
       "      <th>workingday</th>\n",
       "      <th>weathersit</th>\n",
       "      <th>temp</th>\n",
       "      <th>hum</th>\n",
       "      <th>windspeed</th>\n",
       "      <th>cnt</th>\n",
       "    </tr>\n",
       "  </thead>\n",
       "  <tbody>\n",
       "    <tr>\n",
       "      <th>0</th>\n",
       "      <td>1</td>\n",
       "      <td>0</td>\n",
       "      <td>1</td>\n",
       "      <td>0</td>\n",
       "      <td>6</td>\n",
       "      <td>0</td>\n",
       "      <td>2</td>\n",
       "      <td>14.110847</td>\n",
       "      <td>80.5833</td>\n",
       "      <td>10.749882</td>\n",
       "      <td>985</td>\n",
       "    </tr>\n",
       "    <tr>\n",
       "      <th>1</th>\n",
       "      <td>1</td>\n",
       "      <td>0</td>\n",
       "      <td>1</td>\n",
       "      <td>0</td>\n",
       "      <td>0</td>\n",
       "      <td>0</td>\n",
       "      <td>2</td>\n",
       "      <td>14.902598</td>\n",
       "      <td>69.6087</td>\n",
       "      <td>16.652113</td>\n",
       "      <td>801</td>\n",
       "    </tr>\n",
       "    <tr>\n",
       "      <th>2</th>\n",
       "      <td>1</td>\n",
       "      <td>0</td>\n",
       "      <td>1</td>\n",
       "      <td>0</td>\n",
       "      <td>1</td>\n",
       "      <td>1</td>\n",
       "      <td>1</td>\n",
       "      <td>8.050924</td>\n",
       "      <td>43.7273</td>\n",
       "      <td>16.636703</td>\n",
       "      <td>1349</td>\n",
       "    </tr>\n",
       "    <tr>\n",
       "      <th>3</th>\n",
       "      <td>1</td>\n",
       "      <td>0</td>\n",
       "      <td>1</td>\n",
       "      <td>0</td>\n",
       "      <td>2</td>\n",
       "      <td>1</td>\n",
       "      <td>1</td>\n",
       "      <td>8.200000</td>\n",
       "      <td>59.0435</td>\n",
       "      <td>10.739832</td>\n",
       "      <td>1562</td>\n",
       "    </tr>\n",
       "    <tr>\n",
       "      <th>4</th>\n",
       "      <td>1</td>\n",
       "      <td>0</td>\n",
       "      <td>1</td>\n",
       "      <td>0</td>\n",
       "      <td>3</td>\n",
       "      <td>1</td>\n",
       "      <td>1</td>\n",
       "      <td>9.305237</td>\n",
       "      <td>43.6957</td>\n",
       "      <td>12.522300</td>\n",
       "      <td>1600</td>\n",
       "    </tr>\n",
       "  </tbody>\n",
       "</table>\n",
       "</div>"
      ],
      "text/plain": [
       "   season  yr  mnth  holiday  weekday  workingday  weathersit       temp  \\\n",
       "0       1   0     1        0        6           0           2  14.110847   \n",
       "1       1   0     1        0        0           0           2  14.902598   \n",
       "2       1   0     1        0        1           1           1   8.050924   \n",
       "3       1   0     1        0        2           1           1   8.200000   \n",
       "4       1   0     1        0        3           1           1   9.305237   \n",
       "\n",
       "       hum  windspeed   cnt  \n",
       "0  80.5833  10.749882   985  \n",
       "1  69.6087  16.652113   801  \n",
       "2  43.7273  16.636703  1349  \n",
       "3  59.0435  10.739832  1562  \n",
       "4  43.6957  12.522300  1600  "
      ]
     },
     "execution_count": 11,
     "metadata": {},
     "output_type": "execute_result"
    }
   ],
   "source": [
    "dfbike.head()"
   ]
  },
  {
   "cell_type": "code",
   "execution_count": 12,
   "id": "c3b9a7ea-ffc6-4157-ba52-555bd0a3eb9e",
   "metadata": {},
   "outputs": [
    {
     "data": {
      "text/plain": [
       "season          int64\n",
       "yr              int64\n",
       "mnth            int64\n",
       "holiday         int64\n",
       "weekday         int64\n",
       "workingday      int64\n",
       "weathersit      int64\n",
       "temp          float64\n",
       "hum           float64\n",
       "windspeed     float64\n",
       "cnt             int64\n",
       "dtype: object"
      ]
     },
     "execution_count": 12,
     "metadata": {},
     "output_type": "execute_result"
    }
   ],
   "source": [
    "dfbike.dtypes"
   ]
  },
  {
   "cell_type": "code",
   "execution_count": 13,
   "id": "23699104-0ca4-4ab1-88ce-f9a0f15ed3bb",
   "metadata": {},
   "outputs": [],
   "source": [
    "# mapping number categorical to text\n",
    "dfbike.season = dfbike.season.map({1:'spring', 2:'summer', 3:'fall', 4:'winter'})\n",
    "dfbike.mnth = dfbike.mnth.map({1:'jan',2:'feb',3:'mar',4:'apr',5:'may',6:'june',7:'july',8:'aug',9:'sep',10:'oct',11:'nov',12:'dec'})\n",
    "dfbike.weekday = dfbike.weekday.map({0:'sun',1:'mon',2:'tue',3:'wed',4:'thu',5:'fri',6:'sat'})\n",
    "dfbike.weathersit = dfbike.weathersit.map({1:'Clear',2:'Misty',3:'Light_snowrain',4:'Heavy_snowrain'})"
   ]
  },
  {
   "cell_type": "code",
   "execution_count": 14,
   "id": "941f4d2a-d700-4af5-96c2-b9ec6af35872",
   "metadata": {},
   "outputs": [
    {
     "data": {
      "text/plain": [
       "season         object\n",
       "yr              int64\n",
       "mnth           object\n",
       "holiday         int64\n",
       "weekday        object\n",
       "workingday      int64\n",
       "weathersit     object\n",
       "temp          float64\n",
       "hum           float64\n",
       "windspeed     float64\n",
       "cnt             int64\n",
       "dtype: object"
      ]
     },
     "execution_count": 14,
     "metadata": {},
     "output_type": "execute_result"
    }
   ],
   "source": [
    "dfbike.dtypes"
   ]
  },
  {
   "cell_type": "code",
   "execution_count": 15,
   "id": "7c0e4c91-b4c5-4749-911d-1e4a5b24e3ff",
   "metadata": {},
   "outputs": [
    {
     "data": {
      "text/html": [
       "<div>\n",
       "<style scoped>\n",
       "    .dataframe tbody tr th:only-of-type {\n",
       "        vertical-align: middle;\n",
       "    }\n",
       "\n",
       "    .dataframe tbody tr th {\n",
       "        vertical-align: top;\n",
       "    }\n",
       "\n",
       "    .dataframe thead th {\n",
       "        text-align: right;\n",
       "    }\n",
       "</style>\n",
       "<table border=\"1\" class=\"dataframe\">\n",
       "  <thead>\n",
       "    <tr style=\"text-align: right;\">\n",
       "      <th></th>\n",
       "      <th>season</th>\n",
       "      <th>yr</th>\n",
       "      <th>mnth</th>\n",
       "      <th>holiday</th>\n",
       "      <th>weekday</th>\n",
       "      <th>workingday</th>\n",
       "      <th>weathersit</th>\n",
       "      <th>temp</th>\n",
       "      <th>hum</th>\n",
       "      <th>windspeed</th>\n",
       "      <th>cnt</th>\n",
       "    </tr>\n",
       "  </thead>\n",
       "  <tbody>\n",
       "    <tr>\n",
       "      <th>0</th>\n",
       "      <td>spring</td>\n",
       "      <td>0</td>\n",
       "      <td>jan</td>\n",
       "      <td>0</td>\n",
       "      <td>sat</td>\n",
       "      <td>0</td>\n",
       "      <td>Misty</td>\n",
       "      <td>14.110847</td>\n",
       "      <td>80.5833</td>\n",
       "      <td>10.749882</td>\n",
       "      <td>985</td>\n",
       "    </tr>\n",
       "    <tr>\n",
       "      <th>1</th>\n",
       "      <td>spring</td>\n",
       "      <td>0</td>\n",
       "      <td>jan</td>\n",
       "      <td>0</td>\n",
       "      <td>sun</td>\n",
       "      <td>0</td>\n",
       "      <td>Misty</td>\n",
       "      <td>14.902598</td>\n",
       "      <td>69.6087</td>\n",
       "      <td>16.652113</td>\n",
       "      <td>801</td>\n",
       "    </tr>\n",
       "    <tr>\n",
       "      <th>2</th>\n",
       "      <td>spring</td>\n",
       "      <td>0</td>\n",
       "      <td>jan</td>\n",
       "      <td>0</td>\n",
       "      <td>mon</td>\n",
       "      <td>1</td>\n",
       "      <td>Clear</td>\n",
       "      <td>8.050924</td>\n",
       "      <td>43.7273</td>\n",
       "      <td>16.636703</td>\n",
       "      <td>1349</td>\n",
       "    </tr>\n",
       "    <tr>\n",
       "      <th>3</th>\n",
       "      <td>spring</td>\n",
       "      <td>0</td>\n",
       "      <td>jan</td>\n",
       "      <td>0</td>\n",
       "      <td>tue</td>\n",
       "      <td>1</td>\n",
       "      <td>Clear</td>\n",
       "      <td>8.200000</td>\n",
       "      <td>59.0435</td>\n",
       "      <td>10.739832</td>\n",
       "      <td>1562</td>\n",
       "    </tr>\n",
       "    <tr>\n",
       "      <th>4</th>\n",
       "      <td>spring</td>\n",
       "      <td>0</td>\n",
       "      <td>jan</td>\n",
       "      <td>0</td>\n",
       "      <td>wed</td>\n",
       "      <td>1</td>\n",
       "      <td>Clear</td>\n",
       "      <td>9.305237</td>\n",
       "      <td>43.6957</td>\n",
       "      <td>12.522300</td>\n",
       "      <td>1600</td>\n",
       "    </tr>\n",
       "  </tbody>\n",
       "</table>\n",
       "</div>"
      ],
      "text/plain": [
       "   season  yr mnth  holiday weekday  workingday weathersit       temp  \\\n",
       "0  spring   0  jan        0     sat           0      Misty  14.110847   \n",
       "1  spring   0  jan        0     sun           0      Misty  14.902598   \n",
       "2  spring   0  jan        0     mon           1      Clear   8.050924   \n",
       "3  spring   0  jan        0     tue           1      Clear   8.200000   \n",
       "4  spring   0  jan        0     wed           1      Clear   9.305237   \n",
       "\n",
       "       hum  windspeed   cnt  \n",
       "0  80.5833  10.749882   985  \n",
       "1  69.6087  16.652113   801  \n",
       "2  43.7273  16.636703  1349  \n",
       "3  59.0435  10.739832  1562  \n",
       "4  43.6957  12.522300  1600  "
      ]
     },
     "execution_count": 15,
     "metadata": {},
     "output_type": "execute_result"
    }
   ],
   "source": [
    "dfbike.head()"
   ]
  },
  {
   "cell_type": "markdown",
   "id": "60ad3327-dc6e-4519-bbc7-8eb1ee75c03b",
   "metadata": {},
   "source": [
    "## Exploratory Data Analysis\n"
   ]
  },
  {
   "cell_type": "code",
   "execution_count": 16,
   "id": "850f4bdf-b327-47e1-a9f8-73dfccafaff4",
   "metadata": {},
   "outputs": [
    {
     "data": {
      "text/plain": [
       "[Text(0.5, 0, 'weekday'),\n",
       " Text(0, 0.5, 'Count'),\n",
       " Text(0.5, 1.0, 'Box Plot On cnt of Weekday')]"
      ]
     },
     "execution_count": 16,
     "metadata": {},
     "output_type": "execute_result"
    },
    {
     "data": {
      "image/png": "[encoded data removed]",
      "text/plain": [
       "<Figure size 864x720 with 6 Axes>"
      ]
     },
     "metadata": {
      "needs_background": "light"
     },
     "output_type": "display_data"
    }
   ],
   "source": [
    "#season\tday\tyr\tmnth\tholiday\tweekday\tworkingday\tweathersit\t\n",
    "fig, axes = plt.subplots(nrows=2,ncols=3)\n",
    "fig.set_size_inches(12, 10)\n",
    "sns.boxplot(data=dfbike,y=\"cnt\",orient=\"v\",ax=axes[0][0])\n",
    "sns.boxplot(data=dfbike,y=\"cnt\",x=\"season\",orient=\"v\",ax=axes[0][1])\n",
    "sns.boxplot(data=dfbike,y=\"cnt\",x=\"workingday\",orient=\"v\",ax=axes[0][2])\n",
    "sns.boxplot(data=dfbike,y=\"cnt\",x=\"mnth\",orient=\"v\",ax=axes[1][0])\n",
    "sns.boxplot(data=dfbike,y=\"cnt\",x=\"holiday\",orient=\"v\",ax=axes[1][1])\n",
    "sns.boxplot(data=dfbike,y=\"cnt\",x=\"weekday\",orient=\"v\",ax=axes[1][2])\n",
    "\n",
    "axes[0][0].set(ylabel='Count',title=\"Box Plot On Count\")\n",
    "axes[0][1].set(xlabel='Season', ylabel='Count',title=\"Box Plot Number cnt of Season\")\n",
    "axes[0][2].set(xlabel='Workingday', ylabel='Count',title=\"Box Plot On cnt of workingday\")\n",
    "axes[1][0].set(xlabel='Month', ylabel='Count',title=\"Box Plot On cnt os Month\")\n",
    "\n",
    "axes[1][1].set(ylabel='Holiday',title=\"Box Plot On cnt of Holidays\")\n",
    "axes[1][2].set(xlabel='weekday', ylabel='Count',title=\"Box Plot On cnt of Weekday\")\n"
   ]
  },
  {
   "cell_type": "markdown",
   "id": "9cc82412-48b5-4ab0-b34a-f4a89e330c8f",
   "metadata": {},
   "source": [
    "__Looking at the Month chart, the big cnt ratio is in April-July.</br>This is the last month of spring and early autumn, in US the climate is warm and this is the time when tourists are crowded__"
   ]
  },
  {
   "cell_type": "code",
   "execution_count": 17,
   "id": "04161b29-f0a3-406e-9c36-b3c871acb823",
   "metadata": {},
   "outputs": [
    {
     "data": {
      "text/plain": [
       "<AxesSubplot:xlabel='season,yr'>"
      ]
     },
     "execution_count": 17,
     "metadata": {},
     "output_type": "execute_result"
    },
    {
     "data": {
      "image/png": "[encoded data removed]",
      "text/plain": [
       "<Figure size 432x288 with 1 Axes>"
      ]
     },
     "metadata": {
      "needs_background": "light"
     },
     "output_type": "display_data"
    }
   ],
   "source": [
    "dfbike.groupby(['season','yr'])['yr'].count().plot.bar()"
   ]
  },
  {
   "cell_type": "code",
   "execution_count": 18,
   "id": "f8aafa6b-10bf-4c96-abe2-5263ed23a243",
   "metadata": {},
   "outputs": [
    {
     "data": {
      "text/plain": [
       "<AxesSubplot:xlabel='mnth,yr'>"
      ]
     },
     "execution_count": 18,
     "metadata": {},
     "output_type": "execute_result"
    },
    {
     "data": {
      "image/png": "[encoded data removed]",
      "text/plain": [
       "<Figure size 432x288 with 1 Axes>"
      ]
     },
     "metadata": {
      "needs_background": "light"
     },
     "output_type": "display_data"
    }
   ],
   "source": [
    "dfbike.groupby(['mnth','yr'])['yr'].count().plot.bar()"
   ]
  },
  {
   "cell_type": "code",
   "execution_count": 19,
   "id": "840f878c-e450-49c4-88c5-3bc619de0d58",
   "metadata": {},
   "outputs": [
    {
     "data": {
      "text/plain": [
       "<AxesSubplot:xlabel='weathersit,yr'>"
      ]
     },
     "execution_count": 19,
     "metadata": {},
     "output_type": "execute_result"
    },
    {
     "data": {
      "image/png": "[encoded data removed]",
      "text/plain": [
       "<Figure size 432x288 with 1 Axes>"
      ]
     },
     "metadata": {
      "needs_background": "light"
     },
     "output_type": "display_data"
    }
   ],
   "source": [
    "dfbike.groupby(['weathersit','yr'])['yr'].count().plot.bar()"
   ]
  },
  {
   "cell_type": "code",
   "execution_count": 20,
   "id": "c73f814e-ef33-433e-9e88-6274f6a54de0",
   "metadata": {},
   "outputs": [
    {
     "data": {
      "text/plain": [
       "(730, 11)"
      ]
     },
     "execution_count": 20,
     "metadata": {},
     "output_type": "execute_result"
    }
   ],
   "source": [
    "dfbike.shape"
   ]
  },
  {
   "cell_type": "code",
   "execution_count": 21,
   "id": "74f2e3ae-9b5b-45ab-a406-fdba400b09d5",
   "metadata": {},
   "outputs": [
    {
     "data": {
      "text/plain": [
       "<seaborn.axisgrid.PairGrid at 0x18cecc010a0>"
      ]
     },
     "execution_count": 21,
     "metadata": {},
     "output_type": "execute_result"
    },
    {
     "data": {
      "image/png": "[encoded data removed]",
      "text/plain": [
       "<Figure size 720x720 with 20 Axes>"
      ]
     },
     "metadata": {
      "needs_background": "light"
     },
     "output_type": "display_data"
    }
   ],
   "source": [
    "sns.pairplot(dfbike[[\"temp\",\"hum\",\"windspeed\",\"cnt\"]])"
   ]
  },
  {
   "cell_type": "markdown",
   "id": "65a505eb-1034-4dd0-88c0-1d1bca66089f",
   "metadata": {},
   "source": [
    "__We can see that there is a correlation between cnt and temp, but the correlation coefficient is not clear,</br> so nothing can be decided.</br>To come up with a solution, we will analyze more__"
   ]
  },
  {
   "cell_type": "code",
   "execution_count": 22,
   "id": "bd2ebf2c-6845-43a3-89d6-f2c9e05f09a2",
   "metadata": {},
   "outputs": [
    {
     "data": {
      "text/plain": [
       "<AxesSubplot:>"
      ]
     },
     "execution_count": 22,
     "metadata": {},
     "output_type": "execute_result"
    },
    {
     "data": {
      "image/png": "[encoded data removed]",
      "text/plain": [
       "<Figure size 1440x720 with 2 Axes>"
      ]
     },
     "metadata": {
      "needs_background": "light"
     },
     "output_type": "display_data"
    }
   ],
   "source": [
    "corrMatt = dfbike[[\"temp\",\"hum\",\"windspeed\",\"cnt\"]].corr()\n",
    "mask = np.array(corrMatt)\n",
    "mask[np.tril_indices_from(mask)] = False\n",
    "fig,ax= plt.subplots()\n",
    "fig.set_size_inches(20,10)\n",
    "sns.heatmap(corrMatt, mask=mask,vmax=.8, square=True,annot=True)"
   ]
  },
  {
   "cell_type": "code",
   "execution_count": 23,
   "id": "2df01c66-d959-4092-8e9e-12388b8a35ad",
   "metadata": {},
   "outputs": [
    {
     "data": {
      "text/plain": [
       "(730, 29)"
      ]
     },
     "execution_count": 23,
     "metadata": {},
     "output_type": "execute_result"
    }
   ],
   "source": [
    "serMonth=pd.get_dummies(dfbike.mnth,drop_first=True)\n",
    "serSesion=pd.get_dummies(dfbike.season,drop_first=True)\n",
    "serWeek=pd.get_dummies(dfbike.weekday,drop_first=True)\n",
    "serWeat=pd.get_dummies(dfbike.weathersit,drop_first=True)\n",
    "\n",
    "dfbike_crNew = pd.concat([dfbike,serMonth,serSesion, serWeek,serWeat],axis=1)\n",
    "dfbike_crNew.drop(['season','mnth','weekday','weathersit'], axis = 1, inplace = True)\n",
    "dfbike_crNew.shape"
   ]
  },
  {
   "cell_type": "code",
   "execution_count": 24,
   "id": "9fa8aef1-687a-4984-8697-9538a50ec195",
   "metadata": {},
   "outputs": [
    {
     "data": {
      "text/html": [
       "<div>\n",
       "<style scoped>\n",
       "    .dataframe tbody tr th:only-of-type {\n",
       "        vertical-align: middle;\n",
       "    }\n",
       "\n",
       "    .dataframe tbody tr th {\n",
       "        vertical-align: top;\n",
       "    }\n",
       "\n",
       "    .dataframe thead th {\n",
       "        text-align: right;\n",
       "    }\n",
       "</style>\n",
       "<table border=\"1\" class=\"dataframe\">\n",
       "  <thead>\n",
       "    <tr style=\"text-align: right;\">\n",
       "      <th></th>\n",
       "      <th>yr</th>\n",
       "      <th>holiday</th>\n",
       "      <th>workingday</th>\n",
       "      <th>temp</th>\n",
       "      <th>hum</th>\n",
       "      <th>windspeed</th>\n",
       "      <th>cnt</th>\n",
       "      <th>aug</th>\n",
       "      <th>dec</th>\n",
       "      <th>feb</th>\n",
       "      <th>...</th>\n",
       "      <th>summer</th>\n",
       "      <th>winter</th>\n",
       "      <th>mon</th>\n",
       "      <th>sat</th>\n",
       "      <th>sun</th>\n",
       "      <th>thu</th>\n",
       "      <th>tue</th>\n",
       "      <th>wed</th>\n",
       "      <th>Light_snowrain</th>\n",
       "      <th>Misty</th>\n",
       "    </tr>\n",
       "  </thead>\n",
       "  <tbody>\n",
       "    <tr>\n",
       "      <th>0</th>\n",
       "      <td>0</td>\n",
       "      <td>0</td>\n",
       "      <td>0</td>\n",
       "      <td>14.110847</td>\n",
       "      <td>80.5833</td>\n",
       "      <td>10.749882</td>\n",
       "      <td>985</td>\n",
       "      <td>0</td>\n",
       "      <td>0</td>\n",
       "      <td>0</td>\n",
       "      <td>...</td>\n",
       "      <td>0</td>\n",
       "      <td>0</td>\n",
       "      <td>0</td>\n",
       "      <td>1</td>\n",
       "      <td>0</td>\n",
       "      <td>0</td>\n",
       "      <td>0</td>\n",
       "      <td>0</td>\n",
       "      <td>0</td>\n",
       "      <td>1</td>\n",
       "    </tr>\n",
       "    <tr>\n",
       "      <th>1</th>\n",
       "      <td>0</td>\n",
       "      <td>0</td>\n",
       "      <td>0</td>\n",
       "      <td>14.902598</td>\n",
       "      <td>69.6087</td>\n",
       "      <td>16.652113</td>\n",
       "      <td>801</td>\n",
       "      <td>0</td>\n",
       "      <td>0</td>\n",
       "      <td>0</td>\n",
       "      <td>...</td>\n",
       "      <td>0</td>\n",
       "      <td>0</td>\n",
       "      <td>0</td>\n",
       "      <td>0</td>\n",
       "      <td>1</td>\n",
       "      <td>0</td>\n",
       "      <td>0</td>\n",
       "      <td>0</td>\n",
       "      <td>0</td>\n",
       "      <td>1</td>\n",
       "    </tr>\n",
       "    <tr>\n",
       "      <th>2</th>\n",
       "      <td>0</td>\n",
       "      <td>0</td>\n",
       "      <td>1</td>\n",
       "      <td>8.050924</td>\n",
       "      <td>43.7273</td>\n",
       "      <td>16.636703</td>\n",
       "      <td>1349</td>\n",
       "      <td>0</td>\n",
       "      <td>0</td>\n",
       "      <td>0</td>\n",
       "      <td>...</td>\n",
       "      <td>0</td>\n",
       "      <td>0</td>\n",
       "      <td>1</td>\n",
       "      <td>0</td>\n",
       "      <td>0</td>\n",
       "      <td>0</td>\n",
       "      <td>0</td>\n",
       "      <td>0</td>\n",
       "      <td>0</td>\n",
       "      <td>0</td>\n",
       "    </tr>\n",
       "    <tr>\n",
       "      <th>3</th>\n",
       "      <td>0</td>\n",
       "      <td>0</td>\n",
       "      <td>1</td>\n",
       "      <td>8.200000</td>\n",
       "      <td>59.0435</td>\n",
       "      <td>10.739832</td>\n",
       "      <td>1562</td>\n",
       "      <td>0</td>\n",
       "      <td>0</td>\n",
       "      <td>0</td>\n",
       "      <td>...</td>\n",
       "      <td>0</td>\n",
       "      <td>0</td>\n",
       "      <td>0</td>\n",
       "      <td>0</td>\n",
       "      <td>0</td>\n",
       "      <td>0</td>\n",
       "      <td>1</td>\n",
       "      <td>0</td>\n",
       "      <td>0</td>\n",
       "      <td>0</td>\n",
       "    </tr>\n",
       "    <tr>\n",
       "      <th>4</th>\n",
       "      <td>0</td>\n",
       "      <td>0</td>\n",
       "      <td>1</td>\n",
       "      <td>9.305237</td>\n",
       "      <td>43.6957</td>\n",
       "      <td>12.522300</td>\n",
       "      <td>1600</td>\n",
       "      <td>0</td>\n",
       "      <td>0</td>\n",
       "      <td>0</td>\n",
       "      <td>...</td>\n",
       "      <td>0</td>\n",
       "      <td>0</td>\n",
       "      <td>0</td>\n",
       "      <td>0</td>\n",
       "      <td>0</td>\n",
       "      <td>0</td>\n",
       "      <td>0</td>\n",
       "      <td>1</td>\n",
       "      <td>0</td>\n",
       "      <td>0</td>\n",
       "    </tr>\n",
       "  </tbody>\n",
       "</table>\n",
       "<p>5 rows × 29 columns</p>\n",
       "</div>"
      ],
      "text/plain": [
       "   yr  holiday  workingday       temp      hum  windspeed   cnt  aug  dec  \\\n",
       "0   0        0           0  14.110847  80.5833  10.749882   985    0    0   \n",
       "1   0        0           0  14.902598  69.6087  16.652113   801    0    0   \n",
       "2   0        0           1   8.050924  43.7273  16.636703  1349    0    0   \n",
       "3   0        0           1   8.200000  59.0435  10.739832  1562    0    0   \n",
       "4   0        0           1   9.305237  43.6957  12.522300  1600    0    0   \n",
       "\n",
       "   feb  ...  summer  winter  mon  sat  sun  thu  tue  wed  Light_snowrain  \\\n",
       "0    0  ...       0       0    0    1    0    0    0    0               0   \n",
       "1    0  ...       0       0    0    0    1    0    0    0               0   \n",
       "2    0  ...       0       0    1    0    0    0    0    0               0   \n",
       "3    0  ...       0       0    0    0    0    0    1    0               0   \n",
       "4    0  ...       0       0    0    0    0    0    0    1               0   \n",
       "\n",
       "   Misty  \n",
       "0      1  \n",
       "1      1  \n",
       "2      0  \n",
       "3      0  \n",
       "4      0  \n",
       "\n",
       "[5 rows x 29 columns]"
      ]
     },
     "execution_count": 24,
     "metadata": {},
     "output_type": "execute_result"
    }
   ],
   "source": [
    "dfbike_crNew.head()"
   ]
  },
  {
   "cell_type": "markdown",
   "id": "aa696c91-6892-483d-8f0b-e1f091ba4504",
   "metadata": {},
   "source": [
    "## Training model"
   ]
  },
  {
   "cell_type": "code",
   "execution_count": 25,
   "id": "26fd50f1-fe88-4107-a4c8-202ee1d60c48",
   "metadata": {},
   "outputs": [
    {
     "data": {
      "text/plain": [
       "((511, 29), (219, 29))"
      ]
     },
     "execution_count": 25,
     "metadata": {},
     "output_type": "execute_result"
    }
   ],
   "source": [
    "# Create train test split\n",
    "np.random.seed(0)\n",
    "df_train, df_test = train_test_split(dfbike_crNew, test_size=0.3, random_state = 42)\n",
    "df_train.shape, df_test.shape"
   ]
  },
  {
   "cell_type": "code",
   "execution_count": 26,
   "id": "d6f0f919-6c40-4292-9c95-4dfbf8469ce4",
   "metadata": {},
   "outputs": [],
   "source": [
    "df_test_CP = df_test.copy()\n",
    "mms = MinMaxScaler()\n",
    "sclCol = ['temp','hum','windspeed','cnt']\n",
    "df_train[sclCol] = mms.fit_transform(df_train[sclCol])\n",
    "df_test_CP[sclCol] = mms.transform(df_test_CP[sclCol])"
   ]
  },
  {
   "cell_type": "code",
   "execution_count": 27,
   "id": "7e586253-f636-46e3-9713-42252380a83d",
   "metadata": {},
   "outputs": [
    {
     "data": {
      "text/html": [
       "<div>\n",
       "<style scoped>\n",
       "    .dataframe tbody tr th:only-of-type {\n",
       "        vertical-align: middle;\n",
       "    }\n",
       "\n",
       "    .dataframe tbody tr th {\n",
       "        vertical-align: top;\n",
       "    }\n",
       "\n",
       "    .dataframe thead th {\n",
       "        text-align: right;\n",
       "    }\n",
       "</style>\n",
       "<table border=\"1\" class=\"dataframe\">\n",
       "  <thead>\n",
       "    <tr style=\"text-align: right;\">\n",
       "      <th></th>\n",
       "      <th>yr</th>\n",
       "      <th>holiday</th>\n",
       "      <th>workingday</th>\n",
       "      <th>temp</th>\n",
       "      <th>hum</th>\n",
       "      <th>windspeed</th>\n",
       "      <th>cnt</th>\n",
       "      <th>aug</th>\n",
       "      <th>dec</th>\n",
       "      <th>feb</th>\n",
       "      <th>...</th>\n",
       "      <th>summer</th>\n",
       "      <th>winter</th>\n",
       "      <th>mon</th>\n",
       "      <th>sat</th>\n",
       "      <th>sun</th>\n",
       "      <th>thu</th>\n",
       "      <th>tue</th>\n",
       "      <th>wed</th>\n",
       "      <th>Light_snowrain</th>\n",
       "      <th>Misty</th>\n",
       "    </tr>\n",
       "  </thead>\n",
       "  <tbody>\n",
       "    <tr>\n",
       "      <th>683</th>\n",
       "      <td>1</td>\n",
       "      <td>0</td>\n",
       "      <td>1</td>\n",
       "      <td>0.327133</td>\n",
       "      <td>0.639330</td>\n",
       "      <td>0.327101</td>\n",
       "      <td>0.605336</td>\n",
       "      <td>0</td>\n",
       "      <td>0</td>\n",
       "      <td>0</td>\n",
       "      <td>...</td>\n",
       "      <td>0</td>\n",
       "      <td>1</td>\n",
       "      <td>0</td>\n",
       "      <td>0</td>\n",
       "      <td>0</td>\n",
       "      <td>1</td>\n",
       "      <td>0</td>\n",
       "      <td>0</td>\n",
       "      <td>0</td>\n",
       "      <td>1</td>\n",
       "    </tr>\n",
       "    <tr>\n",
       "      <th>645</th>\n",
       "      <td>1</td>\n",
       "      <td>1</td>\n",
       "      <td>0</td>\n",
       "      <td>0.403972</td>\n",
       "      <td>0.731215</td>\n",
       "      <td>0.419004</td>\n",
       "      <td>0.609320</td>\n",
       "      <td>0</td>\n",
       "      <td>0</td>\n",
       "      <td>0</td>\n",
       "      <td>...</td>\n",
       "      <td>0</td>\n",
       "      <td>1</td>\n",
       "      <td>1</td>\n",
       "      <td>0</td>\n",
       "      <td>0</td>\n",
       "      <td>0</td>\n",
       "      <td>0</td>\n",
       "      <td>0</td>\n",
       "      <td>0</td>\n",
       "      <td>1</td>\n",
       "    </tr>\n",
       "    <tr>\n",
       "      <th>163</th>\n",
       "      <td>0</td>\n",
       "      <td>0</td>\n",
       "      <td>1</td>\n",
       "      <td>0.717562</td>\n",
       "      <td>0.509660</td>\n",
       "      <td>0.708724</td>\n",
       "      <td>0.554026</td>\n",
       "      <td>0</td>\n",
       "      <td>0</td>\n",
       "      <td>0</td>\n",
       "      <td>...</td>\n",
       "      <td>1</td>\n",
       "      <td>0</td>\n",
       "      <td>1</td>\n",
       "      <td>0</td>\n",
       "      <td>0</td>\n",
       "      <td>0</td>\n",
       "      <td>0</td>\n",
       "      <td>0</td>\n",
       "      <td>0</td>\n",
       "      <td>0</td>\n",
       "    </tr>\n",
       "    <tr>\n",
       "      <th>360</th>\n",
       "      <td>0</td>\n",
       "      <td>0</td>\n",
       "      <td>1</td>\n",
       "      <td>0.331287</td>\n",
       "      <td>0.785745</td>\n",
       "      <td>0.415925</td>\n",
       "      <td>0.088253</td>\n",
       "      <td>0</td>\n",
       "      <td>1</td>\n",
       "      <td>0</td>\n",
       "      <td>...</td>\n",
       "      <td>0</td>\n",
       "      <td>0</td>\n",
       "      <td>0</td>\n",
       "      <td>0</td>\n",
       "      <td>0</td>\n",
       "      <td>0</td>\n",
       "      <td>1</td>\n",
       "      <td>0</td>\n",
       "      <td>0</td>\n",
       "      <td>1</td>\n",
       "    </tr>\n",
       "    <tr>\n",
       "      <th>640</th>\n",
       "      <td>1</td>\n",
       "      <td>0</td>\n",
       "      <td>1</td>\n",
       "      <td>0.745598</td>\n",
       "      <td>0.817947</td>\n",
       "      <td>0.110593</td>\n",
       "      <td>0.862127</td>\n",
       "      <td>0</td>\n",
       "      <td>0</td>\n",
       "      <td>0</td>\n",
       "      <td>...</td>\n",
       "      <td>0</td>\n",
       "      <td>1</td>\n",
       "      <td>0</td>\n",
       "      <td>0</td>\n",
       "      <td>0</td>\n",
       "      <td>0</td>\n",
       "      <td>0</td>\n",
       "      <td>1</td>\n",
       "      <td>0</td>\n",
       "      <td>1</td>\n",
       "    </tr>\n",
       "  </tbody>\n",
       "</table>\n",
       "<p>5 rows × 29 columns</p>\n",
       "</div>"
      ],
      "text/plain": [
       "     yr  holiday  workingday      temp       hum  windspeed       cnt  aug  \\\n",
       "683   1        0           1  0.327133  0.639330   0.327101  0.605336    0   \n",
       "645   1        1           0  0.403972  0.731215   0.419004  0.609320    0   \n",
       "163   0        0           1  0.717562  0.509660   0.708724  0.554026    0   \n",
       "360   0        0           1  0.331287  0.785745   0.415925  0.088253    0   \n",
       "640   1        0           1  0.745598  0.817947   0.110593  0.862127    0   \n",
       "\n",
       "     dec  feb  ...  summer  winter  mon  sat  sun  thu  tue  wed  \\\n",
       "683    0    0  ...       0       1    0    0    0    1    0    0   \n",
       "645    0    0  ...       0       1    1    0    0    0    0    0   \n",
       "163    0    0  ...       1       0    1    0    0    0    0    0   \n",
       "360    1    0  ...       0       0    0    0    0    0    1    0   \n",
       "640    0    0  ...       0       1    0    0    0    0    0    1   \n",
       "\n",
       "     Light_snowrain  Misty  \n",
       "683               0      1  \n",
       "645               0      1  \n",
       "163               0      0  \n",
       "360               0      1  \n",
       "640               0      1  \n",
       "\n",
       "[5 rows x 29 columns]"
      ]
     },
     "execution_count": 27,
     "metadata": {},
     "output_type": "execute_result"
    }
   ],
   "source": [
    "df_train.head()"
   ]
  },
  {
   "cell_type": "code",
   "execution_count": 28,
   "id": "df817f23-f593-4a52-bb4a-df7214586116",
   "metadata": {},
   "outputs": [],
   "source": [
    "#split X_train, y_train from df_train\n",
    "y_train = df_train.pop('cnt')\n",
    "X_train = df_train\n",
    "y_test = df_test_CP.pop('cnt')\n",
    "X_test = df_test_CP"
   ]
  },
  {
   "cell_type": "code",
   "execution_count": 29,
   "id": "4e444c58-daa6-4cd3-a1f9-f4b4c03af2fe",
   "metadata": {},
   "outputs": [
    {
     "data": {
      "text/plain": [
       "0.008471022204296625"
      ]
     },
     "execution_count": 29,
     "metadata": {},
     "output_type": "execute_result"
    }
   ],
   "source": [
    "lr = LinearRegression()\n",
    "lr.fit(X_train, y_train)\n",
    "\n",
    "y_pred = lr.predict(X_test)\n",
    "mse = mean_squared_error(y_pred,y_test)\n",
    "mse"
   ]
  },
  {
   "cell_type": "markdown",
   "id": "d75e1b6f-0935-4ef6-8e7a-5f016085d14a",
   "metadata": {},
   "source": [
    "__mse coefficient is very small, at first glance it looks good, but we need further analysis to avoid Overfit__"
   ]
  },
  {
   "cell_type": "code",
   "execution_count": 30,
   "id": "b8df4ea3-f398-4c70-aca5-c85ce286054e",
   "metadata": {},
   "outputs": [],
   "source": [
    "# Cal Cof VIF\n",
    "def compute_vif(input_features):\n",
    "    X = dfbike_crNew[input_features]\n",
    "    X['intercept'] = 1\n",
    "    vif = pd.DataFrame()\n",
    "    vif[\"Variable\"] = X.columns\n",
    "    vif[\"VIF\"] = [variance_inflation_factor(X.values, i) for i in range(X.shape[1])]\n",
    "    vif = vif[vif['Variable']!='intercept']\n",
    "    return vif"
   ]
  },
  {
   "cell_type": "code",
   "execution_count": 31,
   "id": "0952a454-a394-4408-8779-be7793a4b2fc",
   "metadata": {},
   "outputs": [
    {
     "data": {
      "text/html": [
       "<div>\n",
       "<style scoped>\n",
       "    .dataframe tbody tr th:only-of-type {\n",
       "        vertical-align: middle;\n",
       "    }\n",
       "\n",
       "    .dataframe tbody tr th {\n",
       "        vertical-align: top;\n",
       "    }\n",
       "\n",
       "    .dataframe thead th {\n",
       "        text-align: right;\n",
       "    }\n",
       "</style>\n",
       "<table border=\"1\" class=\"dataframe\">\n",
       "  <thead>\n",
       "    <tr style=\"text-align: right;\">\n",
       "      <th></th>\n",
       "      <th>Variable</th>\n",
       "      <th>VIF</th>\n",
       "    </tr>\n",
       "  </thead>\n",
       "  <tbody>\n",
       "    <tr>\n",
       "      <th>2</th>\n",
       "      <td>workingday</td>\n",
       "      <td>inf</td>\n",
       "    </tr>\n",
       "    <tr>\n",
       "      <th>22</th>\n",
       "      <td>sun</td>\n",
       "      <td>inf</td>\n",
       "    </tr>\n",
       "    <tr>\n",
       "      <th>21</th>\n",
       "      <td>sat</td>\n",
       "      <td>inf</td>\n",
       "    </tr>\n",
       "    <tr>\n",
       "      <th>1</th>\n",
       "      <td>holiday</td>\n",
       "      <td>inf</td>\n",
       "    </tr>\n",
       "    <tr>\n",
       "      <th>17</th>\n",
       "      <td>spring</td>\n",
       "      <td>10.410441</td>\n",
       "    </tr>\n",
       "  </tbody>\n",
       "</table>\n",
       "</div>"
      ],
      "text/plain": [
       "      Variable        VIF\n",
       "2   workingday        inf\n",
       "22         sun        inf\n",
       "21         sat        inf\n",
       "1      holiday        inf\n",
       "17      spring  10.410441"
      ]
     },
     "execution_count": 31,
     "metadata": {},
     "output_type": "execute_result"
    }
   ],
   "source": [
    "dfbike_col = X_train.columns.tolist()\n",
    "vif_rs = compute_vif(dfbike_col).sort_values('VIF', ascending=False)\n",
    "vif_rs[:5]"
   ]
  },
  {
   "cell_type": "markdown",
   "id": "a677c880-280c-4de7-8e20-8aeaaeadfefa",
   "metadata": {},
   "source": [
    "__The correlation in VIF is very large(infinity), so we will gradually remove the values because it is the largest__"
   ]
  },
  {
   "cell_type": "code",
   "execution_count": 32,
   "id": "f2db7b15-7eca-4e7e-ad46-5668c0b702a3",
   "metadata": {},
   "outputs": [
    {
     "data": {
      "text/html": [
       "<div>\n",
       "<style scoped>\n",
       "    .dataframe tbody tr th:only-of-type {\n",
       "        vertical-align: middle;\n",
       "    }\n",
       "\n",
       "    .dataframe tbody tr th {\n",
       "        vertical-align: top;\n",
       "    }\n",
       "\n",
       "    .dataframe thead th {\n",
       "        text-align: right;\n",
       "    }\n",
       "</style>\n",
       "<table border=\"1\" class=\"dataframe\">\n",
       "  <thead>\n",
       "    <tr style=\"text-align: right;\">\n",
       "      <th></th>\n",
       "      <th>Variable</th>\n",
       "      <th>VIF</th>\n",
       "    </tr>\n",
       "  </thead>\n",
       "  <tbody>\n",
       "    <tr>\n",
       "      <th>16</th>\n",
       "      <td>spring</td>\n",
       "      <td>10.410441</td>\n",
       "    </tr>\n",
       "    <tr>\n",
       "      <th>18</th>\n",
       "      <td>winter</td>\n",
       "      <td>8.328374</td>\n",
       "    </tr>\n",
       "    <tr>\n",
       "      <th>17</th>\n",
       "      <td>summer</td>\n",
       "      <td>7.963782</td>\n",
       "    </tr>\n",
       "    <tr>\n",
       "      <th>2</th>\n",
       "      <td>temp</td>\n",
       "      <td>6.999839</td>\n",
       "    </tr>\n",
       "    <tr>\n",
       "      <th>13</th>\n",
       "      <td>nov</td>\n",
       "      <td>6.389741</td>\n",
       "    </tr>\n",
       "  </tbody>\n",
       "</table>\n",
       "</div>"
      ],
      "text/plain": [
       "   Variable        VIF\n",
       "16   spring  10.410441\n",
       "18   winter   8.328374\n",
       "17   summer   7.963782\n",
       "2      temp   6.999839\n",
       "13      nov   6.389741"
      ]
     },
     "execution_count": 32,
     "metadata": {},
     "output_type": "execute_result"
    }
   ],
   "source": [
    "X_train=X_train.drop([\"workingday\"],axis=1)\n",
    "dfbike_col = X_train.columns.tolist()\n",
    "vif_rs = compute_vif(dfbike_col).sort_values('VIF', ascending=False)\n",
    "vif_rs[:5]"
   ]
  },
  {
   "cell_type": "code",
   "execution_count": 33,
   "id": "a18c268b-3979-410b-bc1d-75c92c3332ed",
   "metadata": {},
   "outputs": [
    {
     "data": {
      "text/html": [
       "<div>\n",
       "<style scoped>\n",
       "    .dataframe tbody tr th:only-of-type {\n",
       "        vertical-align: middle;\n",
       "    }\n",
       "\n",
       "    .dataframe tbody tr th {\n",
       "        vertical-align: top;\n",
       "    }\n",
       "\n",
       "    .dataframe thead th {\n",
       "        text-align: right;\n",
       "    }\n",
       "</style>\n",
       "<table border=\"1\" class=\"dataframe\">\n",
       "  <thead>\n",
       "    <tr style=\"text-align: right;\">\n",
       "      <th></th>\n",
       "      <th>Variable</th>\n",
       "      <th>VIF</th>\n",
       "    </tr>\n",
       "  </thead>\n",
       "  <tbody>\n",
       "    <tr>\n",
       "      <th>2</th>\n",
       "      <td>temp</td>\n",
       "      <td>6.899400</td>\n",
       "    </tr>\n",
       "    <tr>\n",
       "      <th>13</th>\n",
       "      <td>nov</td>\n",
       "      <td>6.389741</td>\n",
       "    </tr>\n",
       "    <tr>\n",
       "      <th>14</th>\n",
       "      <td>oct</td>\n",
       "      <td>6.251559</td>\n",
       "    </tr>\n",
       "    <tr>\n",
       "      <th>6</th>\n",
       "      <td>dec</td>\n",
       "      <td>5.518372</td>\n",
       "    </tr>\n",
       "    <tr>\n",
       "      <th>17</th>\n",
       "      <td>winter</td>\n",
       "      <td>5.287464</td>\n",
       "    </tr>\n",
       "  </tbody>\n",
       "</table>\n",
       "</div>"
      ],
      "text/plain": [
       "   Variable       VIF\n",
       "2      temp  6.899400\n",
       "13      nov  6.389741\n",
       "14      oct  6.251559\n",
       "6       dec  5.518372\n",
       "17   winter  5.287464"
      ]
     },
     "execution_count": 33,
     "metadata": {},
     "output_type": "execute_result"
    }
   ],
   "source": [
    "X_train  = X_train.drop([\"spring\"],axis=1)\n",
    "dfbike_col = X_train.columns.tolist()\n",
    "vif_rs = compute_vif(dfbike_col).sort_values('VIF', ascending=False)\n",
    "vif_rs[:5]"
   ]
  },
  {
   "cell_type": "code",
   "execution_count": 34,
   "id": "378d0a11-47ea-4712-8de4-b5f5fea42c5a",
   "metadata": {},
   "outputs": [
    {
     "data": {
      "text/html": [
       "<div>\n",
       "<style scoped>\n",
       "    .dataframe tbody tr th:only-of-type {\n",
       "        vertical-align: middle;\n",
       "    }\n",
       "\n",
       "    .dataframe tbody tr th {\n",
       "        vertical-align: top;\n",
       "    }\n",
       "\n",
       "    .dataframe thead th {\n",
       "        text-align: right;\n",
       "    }\n",
       "</style>\n",
       "<table border=\"1\" class=\"dataframe\">\n",
       "  <thead>\n",
       "    <tr style=\"text-align: right;\">\n",
       "      <th></th>\n",
       "      <th>Variable</th>\n",
       "      <th>VIF</th>\n",
       "    </tr>\n",
       "  </thead>\n",
       "  <tbody>\n",
       "    <tr>\n",
       "      <th>13</th>\n",
       "      <td>oct</td>\n",
       "      <td>6.225761</td>\n",
       "    </tr>\n",
       "    <tr>\n",
       "      <th>12</th>\n",
       "      <td>nov</td>\n",
       "      <td>6.028305</td>\n",
       "    </tr>\n",
       "    <tr>\n",
       "      <th>16</th>\n",
       "      <td>winter</td>\n",
       "      <td>5.284369</td>\n",
       "    </tr>\n",
       "    <tr>\n",
       "      <th>15</th>\n",
       "      <td>summer</td>\n",
       "      <td>5.035583</td>\n",
       "    </tr>\n",
       "    <tr>\n",
       "      <th>5</th>\n",
       "      <td>dec</td>\n",
       "      <td>4.917938</td>\n",
       "    </tr>\n",
       "  </tbody>\n",
       "</table>\n",
       "</div>"
      ],
      "text/plain": [
       "   Variable       VIF\n",
       "13      oct  6.225761\n",
       "12      nov  6.028305\n",
       "16   winter  5.284369\n",
       "15   summer  5.035583\n",
       "5       dec  4.917938"
      ]
     },
     "execution_count": 34,
     "metadata": {},
     "output_type": "execute_result"
    }
   ],
   "source": [
    "X_train  = X_train.drop([\"temp\"],axis=1)\n",
    "dfbike_col = X_train.columns.tolist()\n",
    "vif_rs = compute_vif(dfbike_col).sort_values('VIF', ascending=False)\n",
    "vif_rs[:5]"
   ]
  },
  {
   "cell_type": "code",
   "execution_count": 35,
   "id": "ddeb5e50-e9b9-4558-9a02-c1579e6334bd",
   "metadata": {},
   "outputs": [
    {
     "data": {
      "text/html": [
       "<div>\n",
       "<style scoped>\n",
       "    .dataframe tbody tr th:only-of-type {\n",
       "        vertical-align: middle;\n",
       "    }\n",
       "\n",
       "    .dataframe tbody tr th {\n",
       "        vertical-align: top;\n",
       "    }\n",
       "\n",
       "    .dataframe thead th {\n",
       "        text-align: right;\n",
       "    }\n",
       "</style>\n",
       "<table border=\"1\" class=\"dataframe\">\n",
       "  <thead>\n",
       "    <tr style=\"text-align: right;\">\n",
       "      <th></th>\n",
       "      <th>Variable</th>\n",
       "      <th>VIF</th>\n",
       "    </tr>\n",
       "  </thead>\n",
       "  <tbody>\n",
       "    <tr>\n",
       "      <th>15</th>\n",
       "      <td>winter</td>\n",
       "      <td>3.457520</td>\n",
       "    </tr>\n",
       "    <tr>\n",
       "      <th>14</th>\n",
       "      <td>summer</td>\n",
       "      <td>3.329791</td>\n",
       "    </tr>\n",
       "    <tr>\n",
       "      <th>4</th>\n",
       "      <td>aug</td>\n",
       "      <td>2.515509</td>\n",
       "    </tr>\n",
       "    <tr>\n",
       "      <th>8</th>\n",
       "      <td>july</td>\n",
       "      <td>2.515241</td>\n",
       "    </tr>\n",
       "    <tr>\n",
       "      <th>7</th>\n",
       "      <td>jan</td>\n",
       "      <td>2.469359</td>\n",
       "    </tr>\n",
       "  </tbody>\n",
       "</table>\n",
       "</div>"
      ],
      "text/plain": [
       "   Variable       VIF\n",
       "15   winter  3.457520\n",
       "14   summer  3.329791\n",
       "4       aug  2.515509\n",
       "8      july  2.515241\n",
       "7       jan  2.469359"
      ]
     },
     "execution_count": 35,
     "metadata": {},
     "output_type": "execute_result"
    }
   ],
   "source": [
    "X_train  = X_train.drop([\"oct\"],axis=1)\n",
    "dfbike_col = X_train.columns.tolist()\n",
    "vif_rs = compute_vif(dfbike_col).sort_values('VIF', ascending=False)\n",
    "vif_rs[:5]"
   ]
  },
  {
   "cell_type": "code",
   "execution_count": 36,
   "id": "9bd3383f-ca0d-485d-82cc-9aca17e89f1d",
   "metadata": {},
   "outputs": [
    {
     "name": "stdout",
     "output_type": "stream",
     "text": [
      "                            OLS Regression Results                            \n",
      "==============================================================================\n",
      "Dep. Variable:                    cnt   R-squared:                       0.809\n",
      "Model:                            OLS   Adj. R-squared:                  0.800\n",
      "Method:                 Least Squares   F-statistic:                     86.05\n",
      "Date:                Wed, 15 Jun 2022   Prob (F-statistic):          5.85e-158\n",
      "Time:                        23:31:27   Log-Likelihood:                 441.20\n",
      "No. Observations:                 511   AIC:                            -832.4\n",
      "Df Residuals:                     486   BIC:                            -726.5\n",
      "Df Model:                          24                                         \n",
      "Covariance Type:            nonrobust                                         \n",
      "==================================================================================\n",
      "                     coef    std err          t      P>|t|      [0.025      0.975]\n",
      "----------------------------------------------------------------------------------\n",
      "const              0.4630      0.042     11.049      0.000       0.381       0.545\n",
      "yr                 0.2480      0.009     26.282      0.000       0.229       0.267\n",
      "holiday           -0.0764      0.030     -2.537      0.011      -0.136      -0.017\n",
      "hum               -0.0589      0.045     -1.323      0.186      -0.146       0.029\n",
      "windspeed         -0.1223      0.028     -4.384      0.000      -0.177      -0.067\n",
      "aug                0.1521      0.027      5.571      0.000       0.098       0.206\n",
      "dec               -0.1901      0.022     -8.550      0.000      -0.234      -0.146\n",
      "feb               -0.1798      0.027     -6.640      0.000      -0.233      -0.127\n",
      "jan               -0.2315      0.026     -8.838      0.000      -0.283      -0.180\n",
      "july               0.1488      0.026      5.667      0.000       0.097       0.200\n",
      "june               0.1301      0.022      6.005      0.000       0.088       0.173\n",
      "mar               -0.0477      0.025     -1.918      0.056      -0.097       0.001\n",
      "may                0.0867      0.022      4.014      0.000       0.044       0.129\n",
      "nov               -0.1535      0.021     -7.273      0.000      -0.195      -0.112\n",
      "sep                0.1682      0.024      7.146      0.000       0.122       0.214\n",
      "summer             0.0592      0.020      2.920      0.004       0.019       0.099\n",
      "winter             0.1636      0.020      8.064      0.000       0.124       0.203\n",
      "mon               -0.0238      0.018     -1.318      0.188      -0.059       0.012\n",
      "sat               -0.0076      0.018     -0.426      0.670      -0.042       0.027\n",
      "sun               -0.0643      0.018     -3.650      0.000      -0.099      -0.030\n",
      "thu                0.0052      0.018      0.294      0.769      -0.030       0.040\n",
      "tue               -0.0242      0.018     -1.321      0.187      -0.060       0.012\n",
      "wed               -0.0033      0.018     -0.181      0.857      -0.039       0.032\n",
      "Light_snowrain    -0.2722      0.031     -8.704      0.000      -0.334      -0.211\n",
      "Misty             -0.0810      0.012     -6.656      0.000      -0.105      -0.057\n",
      "==============================================================================\n",
      "Omnibus:                       77.091   Durbin-Watson:                   2.065\n",
      "Prob(Omnibus):                  0.000   Jarque-Bera (JB):              222.211\n",
      "Skew:                          -0.722   Prob(JB):                     5.59e-49\n",
      "Kurtosis:                       5.890   Cond. No.                         22.6\n",
      "==============================================================================\n",
      "\n",
      "Notes:\n",
      "[1] Standard Errors assume that the covariance matrix of the errors is correctly specified.\n"
     ]
    }
   ],
   "source": [
    "X_train_l1 = sm.add_constant(X_train)\n",
    "lr_1 = sm.OLS(y_train,X_train_l1).fit()\n",
    "print(lr_1.summary())"
   ]
  },
  {
   "cell_type": "code",
   "execution_count": 37,
   "id": "75068fa0-c5f2-42f3-accc-26f5fca45f46",
   "metadata": {},
   "outputs": [
    {
     "data": {
      "text/html": [
       "<div>\n",
       "<style scoped>\n",
       "    .dataframe tbody tr th:only-of-type {\n",
       "        vertical-align: middle;\n",
       "    }\n",
       "\n",
       "    .dataframe tbody tr th {\n",
       "        vertical-align: top;\n",
       "    }\n",
       "\n",
       "    .dataframe thead th {\n",
       "        text-align: right;\n",
       "    }\n",
       "</style>\n",
       "<table border=\"1\" class=\"dataframe\">\n",
       "  <thead>\n",
       "    <tr style=\"text-align: right;\">\n",
       "      <th></th>\n",
       "      <th>Variable</th>\n",
       "      <th>VIF</th>\n",
       "    </tr>\n",
       "  </thead>\n",
       "  <tbody>\n",
       "    <tr>\n",
       "      <th>15</th>\n",
       "      <td>winter</td>\n",
       "      <td>3.457439</td>\n",
       "    </tr>\n",
       "    <tr>\n",
       "      <th>14</th>\n",
       "      <td>summer</td>\n",
       "      <td>3.329429</td>\n",
       "    </tr>\n",
       "    <tr>\n",
       "      <th>8</th>\n",
       "      <td>july</td>\n",
       "      <td>2.515221</td>\n",
       "    </tr>\n",
       "    <tr>\n",
       "      <th>4</th>\n",
       "      <td>aug</td>\n",
       "      <td>2.514984</td>\n",
       "    </tr>\n",
       "    <tr>\n",
       "      <th>7</th>\n",
       "      <td>jan</td>\n",
       "      <td>2.468758</td>\n",
       "    </tr>\n",
       "  </tbody>\n",
       "</table>\n",
       "</div>"
      ],
      "text/plain": [
       "   Variable       VIF\n",
       "15   winter  3.457439\n",
       "14   summer  3.329429\n",
       "8      july  2.515221\n",
       "4       aug  2.514984\n",
       "7       jan  2.468758"
      ]
     },
     "execution_count": 37,
     "metadata": {},
     "output_type": "execute_result"
    }
   ],
   "source": [
    "X_train  = X_train.drop([\"wed\"],axis=1)\n",
    "dfbike_col = X_train.columns.tolist()\n",
    "vif_rs = compute_vif(dfbike_col).sort_values('VIF', ascending=False)\n",
    "vif_rs[:5]"
   ]
  },
  {
   "cell_type": "code",
   "execution_count": 38,
   "id": "d38f7b87-e402-465c-aaad-17abdb82b29d",
   "metadata": {},
   "outputs": [
    {
     "name": "stdout",
     "output_type": "stream",
     "text": [
      "                            OLS Regression Results                            \n",
      "==============================================================================\n",
      "Dep. Variable:                    cnt   R-squared:                       0.809\n",
      "Model:                            OLS   Adj. R-squared:                  0.800\n",
      "Method:                 Least Squares   F-statistic:                     89.97\n",
      "Date:                Wed, 15 Jun 2022   Prob (F-statistic):          6.20e-159\n",
      "Time:                        23:31:27   Log-Likelihood:                 441.19\n",
      "No. Observations:                 511   AIC:                            -834.4\n",
      "Df Residuals:                     487   BIC:                            -732.7\n",
      "Df Model:                          23                                         \n",
      "Covariance Type:            nonrobust                                         \n",
      "==================================================================================\n",
      "                     coef    std err          t      P>|t|      [0.025      0.975]\n",
      "----------------------------------------------------------------------------------\n",
      "const              0.4613      0.041     11.327      0.000       0.381       0.541\n",
      "yr                 0.2481      0.009     26.356      0.000       0.230       0.267\n",
      "holiday           -0.0763      0.030     -2.536      0.012      -0.135      -0.017\n",
      "hum               -0.0592      0.044     -1.331      0.184      -0.146       0.028\n",
      "windspeed         -0.1222      0.028     -4.387      0.000      -0.177      -0.067\n",
      "aug                0.1522      0.027      5.584      0.000       0.099       0.206\n",
      "dec               -0.1901      0.022     -8.558      0.000      -0.234      -0.146\n",
      "feb               -0.1798      0.027     -6.645      0.000      -0.233      -0.127\n",
      "jan               -0.2312      0.026     -8.851      0.000      -0.283      -0.180\n",
      "july               0.1490      0.026      5.680      0.000       0.097       0.200\n",
      "june               0.1303      0.022      6.029      0.000       0.088       0.173\n",
      "mar               -0.0476      0.025     -1.917      0.056      -0.096       0.001\n",
      "may                0.0867      0.022      4.019      0.000       0.044       0.129\n",
      "nov               -0.1534      0.021     -7.279      0.000      -0.195      -0.112\n",
      "sep                0.1683      0.024      7.158      0.000       0.122       0.214\n",
      "summer             0.0593      0.020      2.929      0.004       0.020       0.099\n",
      "winter             0.1637      0.020      8.081      0.000       0.124       0.204\n",
      "mon               -0.0222      0.016     -1.423      0.155      -0.053       0.008\n",
      "sat               -0.0059      0.015     -0.390      0.697      -0.035       0.024\n",
      "sun               -0.0626      0.015     -4.197      0.000      -0.092      -0.033\n",
      "thu                0.0069      0.015      0.456      0.648      -0.023       0.037\n",
      "tue               -0.0224      0.016     -1.435      0.152      -0.053       0.008\n",
      "Light_snowrain    -0.2726      0.031     -8.750      0.000      -0.334      -0.211\n",
      "Misty             -0.0809      0.012     -6.661      0.000      -0.105      -0.057\n",
      "==============================================================================\n",
      "Omnibus:                       77.057   Durbin-Watson:                   2.063\n",
      "Prob(Omnibus):                  0.000   Jarque-Bera (JB):              222.657\n",
      "Skew:                          -0.721   Prob(JB):                     4.47e-49\n",
      "Kurtosis:                       5.895   Cond. No.                         22.3\n",
      "==============================================================================\n",
      "\n",
      "Notes:\n",
      "[1] Standard Errors assume that the covariance matrix of the errors is correctly specified.\n"
     ]
    }
   ],
   "source": [
    "X_train_l2 = sm.add_constant(X_train)\n",
    "lr_2 = sm.OLS(y_train,X_train_l2).fit()\n",
    "print(lr_2.summary())"
   ]
  },
  {
   "cell_type": "markdown",
   "id": "2e44cf53-8244-4add-a781-4d2a7bd67714",
   "metadata": {},
   "source": [
    "__Continue to remove features with high P value__ "
   ]
  },
  {
   "cell_type": "code",
   "execution_count": 39,
   "id": "6b93b34e-d579-49d1-95a5-1c41723dbdf4",
   "metadata": {},
   "outputs": [
    {
     "data": {
      "text/html": [
       "<div>\n",
       "<style scoped>\n",
       "    .dataframe tbody tr th:only-of-type {\n",
       "        vertical-align: middle;\n",
       "    }\n",
       "\n",
       "    .dataframe tbody tr th {\n",
       "        vertical-align: top;\n",
       "    }\n",
       "\n",
       "    .dataframe thead th {\n",
       "        text-align: right;\n",
       "    }\n",
       "</style>\n",
       "<table border=\"1\" class=\"dataframe\">\n",
       "  <thead>\n",
       "    <tr style=\"text-align: right;\">\n",
       "      <th></th>\n",
       "      <th>Variable</th>\n",
       "      <th>VIF</th>\n",
       "    </tr>\n",
       "  </thead>\n",
       "  <tbody>\n",
       "    <tr>\n",
       "      <th>15</th>\n",
       "      <td>winter</td>\n",
       "      <td>3.457328</td>\n",
       "    </tr>\n",
       "    <tr>\n",
       "      <th>14</th>\n",
       "      <td>summer</td>\n",
       "      <td>3.329064</td>\n",
       "    </tr>\n",
       "    <tr>\n",
       "      <th>8</th>\n",
       "      <td>july</td>\n",
       "      <td>2.515172</td>\n",
       "    </tr>\n",
       "    <tr>\n",
       "      <th>4</th>\n",
       "      <td>aug</td>\n",
       "      <td>2.514242</td>\n",
       "    </tr>\n",
       "    <tr>\n",
       "      <th>7</th>\n",
       "      <td>jan</td>\n",
       "      <td>2.468735</td>\n",
       "    </tr>\n",
       "  </tbody>\n",
       "</table>\n",
       "</div>"
      ],
      "text/plain": [
       "   Variable       VIF\n",
       "15   winter  3.457328\n",
       "14   summer  3.329064\n",
       "8      july  2.515172\n",
       "4       aug  2.514242\n",
       "7       jan  2.468735"
      ]
     },
     "execution_count": 39,
     "metadata": {},
     "output_type": "execute_result"
    }
   ],
   "source": [
    "X_train  = X_train.drop([\"sat\"],axis=1)\n",
    "dfbike_col = X_train.columns.tolist()\n",
    "vif_rs = compute_vif(dfbike_col).sort_values('VIF', ascending=False)\n",
    "vif_rs[:5]"
   ]
  },
  {
   "cell_type": "code",
   "execution_count": 40,
   "id": "71d65182-fea5-4719-97d7-90293aaef591",
   "metadata": {},
   "outputs": [
    {
     "name": "stdout",
     "output_type": "stream",
     "text": [
      "                            OLS Regression Results                            \n",
      "==============================================================================\n",
      "Dep. Variable:                    cnt   R-squared:                       0.809\n",
      "Model:                            OLS   Adj. R-squared:                  0.801\n",
      "Method:                 Least Squares   F-statistic:                     94.21\n",
      "Date:                Wed, 15 Jun 2022   Prob (F-statistic):          6.80e-160\n",
      "Time:                        23:31:27   Log-Likelihood:                 441.11\n",
      "No. Observations:                 511   AIC:                            -836.2\n",
      "Df Residuals:                     488   BIC:                            -738.8\n",
      "Df Model:                          22                                         \n",
      "Covariance Type:            nonrobust                                         \n",
      "==================================================================================\n",
      "                     coef    std err          t      P>|t|      [0.025      0.975]\n",
      "----------------------------------------------------------------------------------\n",
      "const              0.4588      0.040     11.416      0.000       0.380       0.538\n",
      "yr                 0.2481      0.009     26.377      0.000       0.230       0.267\n",
      "holiday           -0.0760      0.030     -2.530      0.012      -0.135      -0.017\n",
      "hum               -0.0588      0.044     -1.324      0.186      -0.146       0.028\n",
      "windspeed         -0.1228      0.028     -4.417      0.000      -0.177      -0.068\n",
      "aug                0.1528      0.027      5.619      0.000       0.099       0.206\n",
      "dec               -0.1901      0.022     -8.568      0.000      -0.234      -0.147\n",
      "feb               -0.1793      0.027     -6.639      0.000      -0.232      -0.126\n",
      "jan               -0.2310      0.026     -8.851      0.000      -0.282      -0.180\n",
      "july               0.1494      0.026      5.709      0.000       0.098       0.201\n",
      "june               0.1303      0.022      6.033      0.000       0.088       0.173\n",
      "mar               -0.0468      0.025     -1.892      0.059      -0.095       0.002\n",
      "may                0.0870      0.022      4.041      0.000       0.045       0.129\n",
      "nov               -0.1534      0.021     -7.286      0.000      -0.195      -0.112\n",
      "sep                0.1687      0.023      7.189      0.000       0.123       0.215\n",
      "summer             0.0595      0.020      2.945      0.003       0.020       0.099\n",
      "winter             0.1640      0.020      8.109      0.000       0.124       0.204\n",
      "mon               -0.0201      0.015     -1.374      0.170      -0.049       0.009\n",
      "sun               -0.0605      0.014     -4.355      0.000      -0.088      -0.033\n",
      "thu                0.0090      0.014      0.638      0.524      -0.019       0.037\n",
      "tue               -0.0204      0.015     -1.386      0.166      -0.049       0.009\n",
      "Light_snowrain    -0.2729      0.031     -8.770      0.000      -0.334      -0.212\n",
      "Misty             -0.0810      0.012     -6.671      0.000      -0.105      -0.057\n",
      "==============================================================================\n",
      "Omnibus:                       77.821   Durbin-Watson:                   2.061\n",
      "Prob(Omnibus):                  0.000   Jarque-Bera (JB):              225.350\n",
      "Skew:                          -0.727   Prob(JB):                     1.16e-49\n",
      "Kurtosis:                       5.910   Cond. No.                         22.1\n",
      "==============================================================================\n",
      "\n",
      "Notes:\n",
      "[1] Standard Errors assume that the covariance matrix of the errors is correctly specified.\n"
     ]
    }
   ],
   "source": [
    "X_train_l3 = sm.add_constant(X_train)\n",
    "lr_3 = sm.OLS(y_train,X_train_l3).fit()\n",
    "print(lr_3.summary())"
   ]
  },
  {
   "cell_type": "code",
   "execution_count": 41,
   "id": "e737c9e9-e45f-4487-a2b6-019f5c71faeb",
   "metadata": {},
   "outputs": [
    {
     "data": {
      "text/html": [
       "<div>\n",
       "<style scoped>\n",
       "    .dataframe tbody tr th:only-of-type {\n",
       "        vertical-align: middle;\n",
       "    }\n",
       "\n",
       "    .dataframe tbody tr th {\n",
       "        vertical-align: top;\n",
       "    }\n",
       "\n",
       "    .dataframe thead th {\n",
       "        text-align: right;\n",
       "    }\n",
       "</style>\n",
       "<table border=\"1\" class=\"dataframe\">\n",
       "  <thead>\n",
       "    <tr style=\"text-align: right;\">\n",
       "      <th></th>\n",
       "      <th>Variable</th>\n",
       "      <th>VIF</th>\n",
       "    </tr>\n",
       "  </thead>\n",
       "  <tbody>\n",
       "    <tr>\n",
       "      <th>15</th>\n",
       "      <td>winter</td>\n",
       "      <td>3.457267</td>\n",
       "    </tr>\n",
       "    <tr>\n",
       "      <th>14</th>\n",
       "      <td>summer</td>\n",
       "      <td>3.328904</td>\n",
       "    </tr>\n",
       "    <tr>\n",
       "      <th>8</th>\n",
       "      <td>july</td>\n",
       "      <td>2.515152</td>\n",
       "    </tr>\n",
       "    <tr>\n",
       "      <th>4</th>\n",
       "      <td>aug</td>\n",
       "      <td>2.514197</td>\n",
       "    </tr>\n",
       "    <tr>\n",
       "      <th>7</th>\n",
       "      <td>jan</td>\n",
       "      <td>2.468719</td>\n",
       "    </tr>\n",
       "  </tbody>\n",
       "</table>\n",
       "</div>"
      ],
      "text/plain": [
       "   Variable       VIF\n",
       "15   winter  3.457267\n",
       "14   summer  3.328904\n",
       "8      july  2.515152\n",
       "4       aug  2.514197\n",
       "7       jan  2.468719"
      ]
     },
     "execution_count": 41,
     "metadata": {},
     "output_type": "execute_result"
    }
   ],
   "source": [
    "X_train  = X_train.drop([\"thu\"],axis=1)\n",
    "dfbike_col = X_train.columns.tolist()\n",
    "vif_rs = compute_vif(dfbike_col).sort_values('VIF', ascending=False)\n",
    "vif_rs[:5]"
   ]
  },
  {
   "cell_type": "code",
   "execution_count": 42,
   "id": "100496cf-5df1-462c-b928-d9f9d38ba288",
   "metadata": {},
   "outputs": [
    {
     "name": "stdout",
     "output_type": "stream",
     "text": [
      "                            OLS Regression Results                            \n",
      "==============================================================================\n",
      "Dep. Variable:                    cnt   R-squared:                       0.809\n",
      "Model:                            OLS   Adj. R-squared:                  0.801\n",
      "Method:                 Least Squares   F-statistic:                     98.80\n",
      "Date:                Wed, 15 Jun 2022   Prob (F-statistic):          8.26e-161\n",
      "Time:                        23:31:27   Log-Likelihood:                 440.89\n",
      "No. Observations:                 511   AIC:                            -837.8\n",
      "Df Residuals:                     489   BIC:                            -744.6\n",
      "Df Model:                          21                                         \n",
      "Covariance Type:            nonrobust                                         \n",
      "==================================================================================\n",
      "                     coef    std err          t      P>|t|      [0.025      0.975]\n",
      "----------------------------------------------------------------------------------\n",
      "const              0.4630      0.040     11.684      0.000       0.385       0.541\n",
      "yr                 0.2480      0.009     26.387      0.000       0.230       0.266\n",
      "holiday           -0.0756      0.030     -2.519      0.012      -0.135      -0.017\n",
      "hum               -0.0620      0.044     -1.408      0.160      -0.149       0.025\n",
      "windspeed         -0.1232      0.028     -4.435      0.000      -0.178      -0.069\n",
      "aug                0.1531      0.027      5.636      0.000       0.100       0.207\n",
      "dec               -0.1899      0.022     -8.563      0.000      -0.233      -0.146\n",
      "feb               -0.1791      0.027     -6.639      0.000      -0.232      -0.126\n",
      "jan               -0.2309      0.026     -8.853      0.000      -0.282      -0.180\n",
      "july               0.1496      0.026      5.721      0.000       0.098       0.201\n",
      "june               0.1307      0.022      6.063      0.000       0.088       0.173\n",
      "mar               -0.0463      0.025     -1.874      0.061      -0.095       0.002\n",
      "may                0.0871      0.022      4.045      0.000       0.045       0.129\n",
      "nov               -0.1534      0.021     -7.291      0.000      -0.195      -0.112\n",
      "sep                0.1691      0.023      7.213      0.000       0.123       0.215\n",
      "summer             0.0596      0.020      2.950      0.003       0.020       0.099\n",
      "winter             0.1644      0.020      8.140      0.000       0.125       0.204\n",
      "mon               -0.0225      0.014     -1.587      0.113      -0.050       0.005\n",
      "sun               -0.0628      0.013     -4.683      0.000      -0.089      -0.036\n",
      "tue               -0.0226      0.014     -1.585      0.114      -0.051       0.005\n",
      "Light_snowrain    -0.2726      0.031     -8.767      0.000      -0.334      -0.212\n",
      "Misty             -0.0806      0.012     -6.651      0.000      -0.104      -0.057\n",
      "==============================================================================\n",
      "Omnibus:                       77.963   Durbin-Watson:                   2.064\n",
      "Prob(Omnibus):                  0.000   Jarque-Bera (JB):              223.290\n",
      "Skew:                          -0.732   Prob(JB):                     3.26e-49\n",
      "Kurtosis:                       5.888   Cond. No.                         21.9\n",
      "==============================================================================\n",
      "\n",
      "Notes:\n",
      "[1] Standard Errors assume that the covariance matrix of the errors is correctly specified.\n"
     ]
    }
   ],
   "source": [
    "X_train_l4 = sm.add_constant(X_train)\n",
    "lr_4 = sm.OLS(y_train,X_train_l4).fit()\n",
    "print(lr_4.summary())"
   ]
  },
  {
   "cell_type": "code",
   "execution_count": 43,
   "id": "f7e96eb5-3b16-4e09-b73e-25894b1a6b77",
   "metadata": {},
   "outputs": [
    {
     "data": {
      "text/html": [
       "<div>\n",
       "<style scoped>\n",
       "    .dataframe tbody tr th:only-of-type {\n",
       "        vertical-align: middle;\n",
       "    }\n",
       "\n",
       "    .dataframe tbody tr th {\n",
       "        vertical-align: top;\n",
       "    }\n",
       "\n",
       "    .dataframe thead th {\n",
       "        text-align: right;\n",
       "    }\n",
       "</style>\n",
       "<table border=\"1\" class=\"dataframe\">\n",
       "  <thead>\n",
       "    <tr style=\"text-align: right;\">\n",
       "      <th></th>\n",
       "      <th>Variable</th>\n",
       "      <th>VIF</th>\n",
       "    </tr>\n",
       "  </thead>\n",
       "  <tbody>\n",
       "    <tr>\n",
       "      <th>14</th>\n",
       "      <td>winter</td>\n",
       "      <td>3.441965</td>\n",
       "    </tr>\n",
       "    <tr>\n",
       "      <th>13</th>\n",
       "      <td>summer</td>\n",
       "      <td>3.328155</td>\n",
       "    </tr>\n",
       "    <tr>\n",
       "      <th>7</th>\n",
       "      <td>july</td>\n",
       "      <td>2.515096</td>\n",
       "    </tr>\n",
       "    <tr>\n",
       "      <th>3</th>\n",
       "      <td>aug</td>\n",
       "      <td>2.510220</td>\n",
       "    </tr>\n",
       "    <tr>\n",
       "      <th>6</th>\n",
       "      <td>jan</td>\n",
       "      <td>2.460371</td>\n",
       "    </tr>\n",
       "  </tbody>\n",
       "</table>\n",
       "</div>"
      ],
      "text/plain": [
       "   Variable       VIF\n",
       "14   winter  3.441965\n",
       "13   summer  3.328155\n",
       "7      july  2.515096\n",
       "3       aug  2.510220\n",
       "6       jan  2.460371"
      ]
     },
     "execution_count": 43,
     "metadata": {},
     "output_type": "execute_result"
    }
   ],
   "source": [
    "X_train  = X_train.drop([\"hum\"],axis=1)\n",
    "dfbike_col = X_train.columns.tolist()\n",
    "vif_rs = compute_vif(dfbike_col).sort_values('VIF', ascending=False)\n",
    "vif_rs[:5]"
   ]
  },
  {
   "cell_type": "code",
   "execution_count": 44,
   "id": "a69756ec-3dca-4aa0-af23-ced318ed9e34",
   "metadata": {},
   "outputs": [
    {
     "name": "stdout",
     "output_type": "stream",
     "text": [
      "                            OLS Regression Results                            \n",
      "==============================================================================\n",
      "Dep. Variable:                    cnt   R-squared:                       0.808\n",
      "Model:                            OLS   Adj. R-squared:                  0.801\n",
      "Method:                 Least Squares   F-statistic:                     103.4\n",
      "Date:                Wed, 15 Jun 2022   Prob (F-statistic):          2.13e-161\n",
      "Time:                        23:31:27   Log-Likelihood:                 439.86\n",
      "No. Observations:                 511   AIC:                            -837.7\n",
      "Df Residuals:                     490   BIC:                            -748.8\n",
      "Df Model:                          20                                         \n",
      "Covariance Type:            nonrobust                                         \n",
      "==================================================================================\n",
      "                     coef    std err          t      P>|t|      [0.025      0.975]\n",
      "----------------------------------------------------------------------------------\n",
      "const              0.4204      0.026     16.419      0.000       0.370       0.471\n",
      "yr                 0.2498      0.009     26.799      0.000       0.231       0.268\n",
      "holiday           -0.0755      0.030     -2.513      0.012      -0.135      -0.016\n",
      "windspeed         -0.1112      0.026     -4.202      0.000      -0.163      -0.059\n",
      "aug                0.1522      0.027      5.597      0.000       0.099       0.206\n",
      "dec               -0.1895      0.022     -8.538      0.000      -0.233      -0.146\n",
      "feb               -0.1763      0.027     -6.546      0.000      -0.229      -0.123\n",
      "jan               -0.2284      0.026     -8.770      0.000      -0.280      -0.177\n",
      "july               0.1504      0.026      5.743      0.000       0.099       0.202\n",
      "june               0.1325      0.022      6.151      0.000       0.090       0.175\n",
      "mar               -0.0434      0.025     -1.760      0.079      -0.092       0.005\n",
      "may                0.0840      0.021      3.920      0.000       0.042       0.126\n",
      "nov               -0.1517      0.021     -7.215      0.000      -0.193      -0.110\n",
      "sep                0.1663      0.023      7.112      0.000       0.120       0.212\n",
      "summer             0.0606      0.020      2.998      0.003       0.021       0.100\n",
      "winter             0.1634      0.020      8.086      0.000       0.124       0.203\n",
      "mon               -0.0233      0.014     -1.648      0.100      -0.051       0.004\n",
      "sun               -0.0637      0.013     -4.751      0.000      -0.090      -0.037\n",
      "tue               -0.0241      0.014     -1.693      0.091      -0.052       0.004\n",
      "Light_snowrain    -0.2904      0.028    -10.206      0.000      -0.346      -0.235\n",
      "Misty             -0.0902      0.010     -9.025      0.000      -0.110      -0.071\n",
      "==============================================================================\n",
      "Omnibus:                       79.637   Durbin-Watson:                   2.072\n",
      "Prob(Omnibus):                  0.000   Jarque-Bera (JB):              229.814\n",
      "Skew:                          -0.746   Prob(JB):                     1.25e-50\n",
      "Kurtosis:                       5.927   Cond. No.                         18.5\n",
      "==============================================================================\n",
      "\n",
      "Notes:\n",
      "[1] Standard Errors assume that the covariance matrix of the errors is correctly specified.\n"
     ]
    }
   ],
   "source": [
    "X_train_l5 = sm.add_constant(X_train)\n",
    "lr_5 = sm.OLS(y_train,X_train_l5).fit()\n",
    "print(lr_5.summary())"
   ]
  },
  {
   "cell_type": "code",
   "execution_count": 45,
   "id": "6c8c5600-0df9-45dc-ac35-f784b4a1431f",
   "metadata": {},
   "outputs": [
    {
     "data": {
      "text/html": [
       "<div>\n",
       "<style scoped>\n",
       "    .dataframe tbody tr th:only-of-type {\n",
       "        vertical-align: middle;\n",
       "    }\n",
       "\n",
       "    .dataframe tbody tr th {\n",
       "        vertical-align: top;\n",
       "    }\n",
       "\n",
       "    .dataframe thead th {\n",
       "        text-align: right;\n",
       "    }\n",
       "</style>\n",
       "<table border=\"1\" class=\"dataframe\">\n",
       "  <thead>\n",
       "    <tr style=\"text-align: right;\">\n",
       "      <th></th>\n",
       "      <th>Variable</th>\n",
       "      <th>VIF</th>\n",
       "    </tr>\n",
       "  </thead>\n",
       "  <tbody>\n",
       "    <tr>\n",
       "      <th>14</th>\n",
       "      <td>winter</td>\n",
       "      <td>3.438088</td>\n",
       "    </tr>\n",
       "    <tr>\n",
       "      <th>13</th>\n",
       "      <td>summer</td>\n",
       "      <td>3.326733</td>\n",
       "    </tr>\n",
       "    <tr>\n",
       "      <th>7</th>\n",
       "      <td>july</td>\n",
       "      <td>2.514341</td>\n",
       "    </tr>\n",
       "    <tr>\n",
       "      <th>3</th>\n",
       "      <td>aug</td>\n",
       "      <td>2.508921</td>\n",
       "    </tr>\n",
       "    <tr>\n",
       "      <th>6</th>\n",
       "      <td>jan</td>\n",
       "      <td>2.459379</td>\n",
       "    </tr>\n",
       "  </tbody>\n",
       "</table>\n",
       "</div>"
      ],
      "text/plain": [
       "   Variable       VIF\n",
       "14   winter  3.438088\n",
       "13   summer  3.326733\n",
       "7      july  2.514341\n",
       "3       aug  2.508921\n",
       "6       jan  2.459379"
      ]
     },
     "execution_count": 45,
     "metadata": {},
     "output_type": "execute_result"
    }
   ],
   "source": [
    "X_train  = X_train.drop([\"mon\"],axis=1)\n",
    "dfbike_col = X_train.columns.tolist()\n",
    "vif_rs = compute_vif(dfbike_col).sort_values('VIF', ascending=False)\n",
    "vif_rs[:5]"
   ]
  },
  {
   "cell_type": "code",
   "execution_count": 46,
   "id": "a583e8dd-94cd-49fc-b20a-13546a9242c9",
   "metadata": {},
   "outputs": [
    {
     "name": "stdout",
     "output_type": "stream",
     "text": [
      "                            OLS Regression Results                            \n",
      "==============================================================================\n",
      "Dep. Variable:                    cnt   R-squared:                       0.807\n",
      "Model:                            OLS   Adj. R-squared:                  0.800\n",
      "Method:                 Least Squares   F-statistic:                     108.4\n",
      "Date:                Wed, 15 Jun 2022   Prob (F-statistic):          7.74e-162\n",
      "Time:                        23:31:27   Log-Likelihood:                 438.45\n",
      "No. Observations:                 511   AIC:                            -836.9\n",
      "Df Residuals:                     491   BIC:                            -752.2\n",
      "Df Model:                          19                                         \n",
      "Covariance Type:            nonrobust                                         \n",
      "==================================================================================\n",
      "                     coef    std err          t      P>|t|      [0.025      0.975]\n",
      "----------------------------------------------------------------------------------\n",
      "const              0.4167      0.026     16.309      0.000       0.366       0.467\n",
      "yr                 0.2494      0.009     26.719      0.000       0.231       0.268\n",
      "holiday           -0.0900      0.029     -3.124      0.002      -0.147      -0.033\n",
      "windspeed         -0.1122      0.026     -4.236      0.000      -0.164      -0.060\n",
      "aug                0.1520      0.027      5.583      0.000       0.099       0.206\n",
      "dec               -0.1893      0.022     -8.512      0.000      -0.233      -0.146\n",
      "feb               -0.1760      0.027     -6.524      0.000      -0.229      -0.123\n",
      "jan               -0.2279      0.026     -8.734      0.000      -0.279      -0.177\n",
      "july               0.1501      0.026      5.725      0.000       0.099       0.202\n",
      "june               0.1318      0.022      6.107      0.000       0.089       0.174\n",
      "mar               -0.0424      0.025     -1.717      0.087      -0.091       0.006\n",
      "may                0.0844      0.021      3.928      0.000       0.042       0.127\n",
      "nov               -0.1508      0.021     -7.160      0.000      -0.192      -0.109\n",
      "sep                0.1668      0.023      7.122      0.000       0.121       0.213\n",
      "summer             0.0603      0.020      2.981      0.003       0.021       0.100\n",
      "winter             0.1633      0.020      8.065      0.000       0.123       0.203\n",
      "sun               -0.0594      0.013     -4.507      0.000      -0.085      -0.033\n",
      "tue               -0.0196      0.014     -1.400      0.162      -0.047       0.008\n",
      "Light_snowrain    -0.2874      0.028    -10.104      0.000      -0.343      -0.232\n",
      "Misty             -0.0908      0.010     -9.075      0.000      -0.110      -0.071\n",
      "==============================================================================\n",
      "Omnibus:                       77.609   Durbin-Watson:                   2.079\n",
      "Prob(Omnibus):                  0.000   Jarque-Bera (JB):              223.624\n",
      "Skew:                          -0.727   Prob(JB):                     2.76e-49\n",
      "Kurtosis:                       5.896   Cond. No.                         18.4\n",
      "==============================================================================\n",
      "\n",
      "Notes:\n",
      "[1] Standard Errors assume that the covariance matrix of the errors is correctly specified.\n"
     ]
    }
   ],
   "source": [
    "X_train_l6 = sm.add_constant(X_train)\n",
    "lr_6 = sm.OLS(y_train,X_train_l6).fit()\n",
    "print(lr_6.summary())"
   ]
  },
  {
   "cell_type": "code",
   "execution_count": 47,
   "id": "38f9c844-9687-44ff-ae74-969250f7fef9",
   "metadata": {},
   "outputs": [
    {
     "data": {
      "text/html": [
       "<div>\n",
       "<style scoped>\n",
       "    .dataframe tbody tr th:only-of-type {\n",
       "        vertical-align: middle;\n",
       "    }\n",
       "\n",
       "    .dataframe tbody tr th {\n",
       "        vertical-align: top;\n",
       "    }\n",
       "\n",
       "    .dataframe thead th {\n",
       "        text-align: right;\n",
       "    }\n",
       "</style>\n",
       "<table border=\"1\" class=\"dataframe\">\n",
       "  <thead>\n",
       "    <tr style=\"text-align: right;\">\n",
       "      <th></th>\n",
       "      <th>Variable</th>\n",
       "      <th>VIF</th>\n",
       "    </tr>\n",
       "  </thead>\n",
       "  <tbody>\n",
       "    <tr>\n",
       "      <th>14</th>\n",
       "      <td>winter</td>\n",
       "      <td>3.437864</td>\n",
       "    </tr>\n",
       "    <tr>\n",
       "      <th>13</th>\n",
       "      <td>summer</td>\n",
       "      <td>3.326579</td>\n",
       "    </tr>\n",
       "    <tr>\n",
       "      <th>7</th>\n",
       "      <td>july</td>\n",
       "      <td>2.514192</td>\n",
       "    </tr>\n",
       "    <tr>\n",
       "      <th>3</th>\n",
       "      <td>aug</td>\n",
       "      <td>2.508911</td>\n",
       "    </tr>\n",
       "    <tr>\n",
       "      <th>6</th>\n",
       "      <td>jan</td>\n",
       "      <td>2.459276</td>\n",
       "    </tr>\n",
       "  </tbody>\n",
       "</table>\n",
       "</div>"
      ],
      "text/plain": [
       "   Variable       VIF\n",
       "14   winter  3.437864\n",
       "13   summer  3.326579\n",
       "7      july  2.514192\n",
       "3       aug  2.508911\n",
       "6       jan  2.459276"
      ]
     },
     "execution_count": 47,
     "metadata": {},
     "output_type": "execute_result"
    }
   ],
   "source": [
    "X_train  = X_train.drop([\"tue\"],axis=1)\n",
    "dfbike_col = X_train.columns.tolist()\n",
    "vif_rs = compute_vif(dfbike_col).sort_values('VIF', ascending=False)\n",
    "vif_rs[:5]"
   ]
  },
  {
   "cell_type": "code",
   "execution_count": 48,
   "id": "816eb500-0e5e-4f39-8db0-5de4e0708ef4",
   "metadata": {},
   "outputs": [
    {
     "name": "stdout",
     "output_type": "stream",
     "text": [
      "                            OLS Regression Results                            \n",
      "==============================================================================\n",
      "Dep. Variable:                    cnt   R-squared:                       0.807\n",
      "Model:                            OLS   Adj. R-squared:                  0.800\n",
      "Method:                 Least Squares   F-statistic:                     114.0\n",
      "Date:                Wed, 15 Jun 2022   Prob (F-statistic):          1.88e-162\n",
      "Time:                        23:31:28   Log-Likelihood:                 437.43\n",
      "No. Observations:                 511   AIC:                            -836.9\n",
      "Df Residuals:                     492   BIC:                            -756.4\n",
      "Df Model:                          18                                         \n",
      "Covariance Type:            nonrobust                                         \n",
      "==================================================================================\n",
      "                     coef    std err          t      P>|t|      [0.025      0.975]\n",
      "----------------------------------------------------------------------------------\n",
      "const              0.4140      0.026     16.234      0.000       0.364       0.464\n",
      "yr                 0.2498      0.009     26.757      0.000       0.231       0.268\n",
      "holiday           -0.0884      0.029     -3.069      0.002      -0.145      -0.032\n",
      "windspeed         -0.1130      0.027     -4.262      0.000      -0.165      -0.061\n",
      "aug                0.1530      0.027      5.613      0.000       0.099       0.207\n",
      "dec               -0.1895      0.022     -8.513      0.000      -0.233      -0.146\n",
      "feb               -0.1764      0.027     -6.531      0.000      -0.229      -0.123\n",
      "jan               -0.2277      0.026     -8.719      0.000      -0.279      -0.176\n",
      "july               0.1494      0.026      5.694      0.000       0.098       0.201\n",
      "june               0.1314      0.022      6.082      0.000       0.089       0.174\n",
      "mar               -0.0431      0.025     -1.743      0.082      -0.092       0.005\n",
      "may                0.0827      0.021      3.853      0.000       0.041       0.125\n",
      "nov               -0.1510      0.021     -7.164      0.000      -0.192      -0.110\n",
      "sep                0.1666      0.023      7.107      0.000       0.121       0.213\n",
      "summer             0.0608      0.020      3.002      0.003       0.021       0.101\n",
      "winter             0.1634      0.020      8.062      0.000       0.124       0.203\n",
      "sun               -0.0563      0.013     -4.331      0.000      -0.082      -0.031\n",
      "Light_snowrain    -0.2885      0.028    -10.137      0.000      -0.344      -0.233\n",
      "Misty             -0.0913      0.010     -9.125      0.000      -0.111      -0.072\n",
      "==============================================================================\n",
      "Omnibus:                       80.887   Durbin-Watson:                   2.055\n",
      "Prob(Omnibus):                  0.000   Jarque-Bera (JB):              246.232\n",
      "Skew:                          -0.740   Prob(JB):                     3.40e-54\n",
      "Kurtosis:                       6.062   Cond. No.                         18.3\n",
      "==============================================================================\n",
      "\n",
      "Notes:\n",
      "[1] Standard Errors assume that the covariance matrix of the errors is correctly specified.\n"
     ]
    }
   ],
   "source": [
    "X_train_l7 = sm.add_constant(X_train)\n",
    "lr_7 = sm.OLS(y_train,X_train_l7).fit()\n",
    "print(lr_7.summary())"
   ]
  },
  {
   "cell_type": "code",
   "execution_count": 49,
   "id": "9841d508-140a-4b8e-9bed-31ea8b2ab3e1",
   "metadata": {},
   "outputs": [
    {
     "data": {
      "text/html": [
       "<div>\n",
       "<style scoped>\n",
       "    .dataframe tbody tr th:only-of-type {\n",
       "        vertical-align: middle;\n",
       "    }\n",
       "\n",
       "    .dataframe tbody tr th {\n",
       "        vertical-align: top;\n",
       "    }\n",
       "\n",
       "    .dataframe thead th {\n",
       "        text-align: right;\n",
       "    }\n",
       "</style>\n",
       "<table border=\"1\" class=\"dataframe\">\n",
       "  <thead>\n",
       "    <tr style=\"text-align: right;\">\n",
       "      <th></th>\n",
       "      <th>Variable</th>\n",
       "      <th>VIF</th>\n",
       "    </tr>\n",
       "  </thead>\n",
       "  <tbody>\n",
       "    <tr>\n",
       "      <th>12</th>\n",
       "      <td>summer</td>\n",
       "      <td>2.909307</td>\n",
       "    </tr>\n",
       "    <tr>\n",
       "      <th>13</th>\n",
       "      <td>winter</td>\n",
       "      <td>2.574978</td>\n",
       "    </tr>\n",
       "    <tr>\n",
       "      <th>7</th>\n",
       "      <td>july</td>\n",
       "      <td>1.792032</td>\n",
       "    </tr>\n",
       "    <tr>\n",
       "      <th>3</th>\n",
       "      <td>aug</td>\n",
       "      <td>1.774692</td>\n",
       "    </tr>\n",
       "    <tr>\n",
       "      <th>6</th>\n",
       "      <td>jan</td>\n",
       "      <td>1.738057</td>\n",
       "    </tr>\n",
       "  </tbody>\n",
       "</table>\n",
       "</div>"
      ],
      "text/plain": [
       "   Variable       VIF\n",
       "12   summer  2.909307\n",
       "13   winter  2.574978\n",
       "7      july  1.792032\n",
       "3       aug  1.774692\n",
       "6       jan  1.738057"
      ]
     },
     "execution_count": 49,
     "metadata": {},
     "output_type": "execute_result"
    }
   ],
   "source": [
    "X_train  = X_train.drop([\"mar\"],axis=1)\n",
    "dfbike_col = X_train.columns.tolist()\n",
    "vif_rs = compute_vif(dfbike_col).sort_values('VIF', ascending=False)\n",
    "vif_rs[:5]"
   ]
  },
  {
   "cell_type": "code",
   "execution_count": 50,
   "id": "adad8604-106f-4e53-9805-1d2777654cb6",
   "metadata": {},
   "outputs": [
    {
     "name": "stdout",
     "output_type": "stream",
     "text": [
      "                            OLS Regression Results                            \n",
      "==============================================================================\n",
      "Dep. Variable:                    cnt   R-squared:                       0.805\n",
      "Model:                            OLS   Adj. R-squared:                  0.799\n",
      "Method:                 Least Squares   F-statistic:                     120.1\n",
      "Date:                Wed, 15 Jun 2022   Prob (F-statistic):          7.61e-163\n",
      "Time:                        23:31:28   Log-Likelihood:                 435.86\n",
      "No. Observations:                 511   AIC:                            -835.7\n",
      "Df Residuals:                     493   BIC:                            -759.5\n",
      "Df Model:                          17                                         \n",
      "Covariance Type:            nonrobust                                         \n",
      "==================================================================================\n",
      "                     coef    std err          t      P>|t|      [0.025      0.975]\n",
      "----------------------------------------------------------------------------------\n",
      "const              0.3898      0.021     18.187      0.000       0.348       0.432\n",
      "yr                 0.2496      0.009     26.681      0.000       0.231       0.268\n",
      "holiday           -0.0848      0.029     -2.944      0.003      -0.141      -0.028\n",
      "windspeed         -0.1091      0.026     -4.120      0.000      -0.161      -0.057\n",
      "aug                0.1762      0.024      7.391      0.000       0.129       0.223\n",
      "dec               -0.1764      0.021     -8.399      0.000      -0.218      -0.135\n",
      "feb               -0.1537      0.024     -6.481      0.000      -0.200      -0.107\n",
      "jan               -0.2051      0.023     -9.030      0.000      -0.250      -0.160\n",
      "july               0.1725      0.023      7.596      0.000       0.128       0.217\n",
      "june               0.1466      0.020      7.406      0.000       0.108       0.185\n",
      "may                0.0942      0.020      4.605      0.000       0.054       0.134\n",
      "nov               -0.1450      0.021     -6.959      0.000      -0.186      -0.104\n",
      "sep                0.1855      0.021      8.902      0.000       0.145       0.226\n",
      "summer             0.0723      0.019      3.772      0.000       0.035       0.110\n",
      "winter             0.1803      0.018     10.111      0.000       0.145       0.215\n",
      "sun               -0.0564      0.013     -4.325      0.000      -0.082      -0.031\n",
      "Light_snowrain    -0.2901      0.029    -10.176      0.000      -0.346      -0.234\n",
      "Misty             -0.0923      0.010     -9.221      0.000      -0.112      -0.073\n",
      "==============================================================================\n",
      "Omnibus:                       77.316   Durbin-Watson:                   2.048\n",
      "Prob(Omnibus):                  0.000   Jarque-Bera (JB):              214.043\n",
      "Skew:                          -0.737   Prob(JB):                     3.32e-47\n",
      "Kurtosis:                       5.807   Cond. No.                         14.1\n",
      "==============================================================================\n",
      "\n",
      "Notes:\n",
      "[1] Standard Errors assume that the covariance matrix of the errors is correctly specified.\n"
     ]
    }
   ],
   "source": [
    "X_train_l8 = sm.add_constant(X_train)\n",
    "lr_8 = sm.OLS(y_train,X_train_l8).fit()\n",
    "print(lr_8.summary())"
   ]
  },
  {
   "cell_type": "markdown",
   "id": "596fd366-7ceb-4815-bff6-5ebb2902305c",
   "metadata": {},
   "source": [
    "> At this point, we see three things: </br> 1: 'F-statistic' value is very large compared to 1 (120.1).</br> 2: 'Prob (F-statistic)' value is very small (7.61e-163), asymptote to 0. </br>\n",
    "> 3: P>|t| values have no values greater than 0.05. This shows that the model has processed and selected the right parameters for training"
   ]
  },
  {
   "cell_type": "code",
   "execution_count": 51,
   "id": "c1f78c62-7697-4c41-a36e-7e159bfce195",
   "metadata": {},
   "outputs": [
    {
     "data": {
      "text/plain": [
       "const             0.389828\n",
       "yr                0.249613\n",
       "holiday          -0.084761\n",
       "windspeed        -0.109075\n",
       "aug               0.176169\n",
       "dec              -0.176433\n",
       "feb              -0.153688\n",
       "jan              -0.205101\n",
       "july              0.172501\n",
       "june              0.146602\n",
       "may               0.094226\n",
       "nov              -0.145044\n",
       "sep               0.185483\n",
       "summer            0.072334\n",
       "winter            0.180265\n",
       "sun              -0.056351\n",
       "Light_snowrain   -0.290066\n",
       "Misty            -0.092348\n",
       "dtype: float64"
      ]
     },
     "execution_count": 51,
     "metadata": {},
     "output_type": "execute_result"
    }
   ],
   "source": [
    "# We have the following multilinear function coefficients:\n",
    "lr_8.params"
   ]
  },
  {
   "cell_type": "markdown",
   "id": "a5507ee9-5241-47ed-9de5-9f3d6f31e702",
   "metadata": {},
   "source": [
    "### General equation"
   ]
  },
  {
   "cell_type": "markdown",
   "id": "ce401d37-b5f1-41e5-9d8b-bb0ad30d354c",
   "metadata": {},
   "source": [
    "__y = 0.249613*yr - 0.08*holiday - 0.11*windspeed + 0.18*aug - 0.18*dec - 0.15*feb - 0.2*jan + 0.17*july + 0.09*may - 0.14*nov + 0.18*sep + 0.07*summer + 0.18*winter - 0.06*sun - 0.29*Light_snowrain - 0.09*Misty + 0.39__"
   ]
  },
  {
   "cell_type": "code",
   "execution_count": 52,
   "id": "9a1bea0a-067e-4623-9176-7285085e045e",
   "metadata": {},
   "outputs": [
    {
     "data": {
      "text/html": [
       "<div>\n",
       "<style scoped>\n",
       "    .dataframe tbody tr th:only-of-type {\n",
       "        vertical-align: middle;\n",
       "    }\n",
       "\n",
       "    .dataframe tbody tr th {\n",
       "        vertical-align: top;\n",
       "    }\n",
       "\n",
       "    .dataframe thead th {\n",
       "        text-align: right;\n",
       "    }\n",
       "</style>\n",
       "<table border=\"1\" class=\"dataframe\">\n",
       "  <thead>\n",
       "    <tr style=\"text-align: right;\">\n",
       "      <th></th>\n",
       "      <th>yr</th>\n",
       "      <th>holiday</th>\n",
       "      <th>windspeed</th>\n",
       "      <th>aug</th>\n",
       "      <th>dec</th>\n",
       "      <th>feb</th>\n",
       "      <th>jan</th>\n",
       "      <th>july</th>\n",
       "      <th>june</th>\n",
       "      <th>may</th>\n",
       "      <th>nov</th>\n",
       "      <th>sep</th>\n",
       "      <th>summer</th>\n",
       "      <th>winter</th>\n",
       "      <th>sun</th>\n",
       "      <th>Light_snowrain</th>\n",
       "      <th>Misty</th>\n",
       "    </tr>\n",
       "  </thead>\n",
       "  <tbody>\n",
       "    <tr>\n",
       "      <th>683</th>\n",
       "      <td>1</td>\n",
       "      <td>0</td>\n",
       "      <td>0.327101</td>\n",
       "      <td>0</td>\n",
       "      <td>0</td>\n",
       "      <td>0</td>\n",
       "      <td>0</td>\n",
       "      <td>0</td>\n",
       "      <td>0</td>\n",
       "      <td>0</td>\n",
       "      <td>1</td>\n",
       "      <td>0</td>\n",
       "      <td>0</td>\n",
       "      <td>1</td>\n",
       "      <td>0</td>\n",
       "      <td>0</td>\n",
       "      <td>1</td>\n",
       "    </tr>\n",
       "    <tr>\n",
       "      <th>645</th>\n",
       "      <td>1</td>\n",
       "      <td>1</td>\n",
       "      <td>0.419004</td>\n",
       "      <td>0</td>\n",
       "      <td>0</td>\n",
       "      <td>0</td>\n",
       "      <td>0</td>\n",
       "      <td>0</td>\n",
       "      <td>0</td>\n",
       "      <td>0</td>\n",
       "      <td>0</td>\n",
       "      <td>0</td>\n",
       "      <td>0</td>\n",
       "      <td>1</td>\n",
       "      <td>0</td>\n",
       "      <td>0</td>\n",
       "      <td>1</td>\n",
       "    </tr>\n",
       "    <tr>\n",
       "      <th>163</th>\n",
       "      <td>0</td>\n",
       "      <td>0</td>\n",
       "      <td>0.708724</td>\n",
       "      <td>0</td>\n",
       "      <td>0</td>\n",
       "      <td>0</td>\n",
       "      <td>0</td>\n",
       "      <td>0</td>\n",
       "      <td>1</td>\n",
       "      <td>0</td>\n",
       "      <td>0</td>\n",
       "      <td>0</td>\n",
       "      <td>1</td>\n",
       "      <td>0</td>\n",
       "      <td>0</td>\n",
       "      <td>0</td>\n",
       "      <td>0</td>\n",
       "    </tr>\n",
       "    <tr>\n",
       "      <th>360</th>\n",
       "      <td>0</td>\n",
       "      <td>0</td>\n",
       "      <td>0.415925</td>\n",
       "      <td>0</td>\n",
       "      <td>1</td>\n",
       "      <td>0</td>\n",
       "      <td>0</td>\n",
       "      <td>0</td>\n",
       "      <td>0</td>\n",
       "      <td>0</td>\n",
       "      <td>0</td>\n",
       "      <td>0</td>\n",
       "      <td>0</td>\n",
       "      <td>0</td>\n",
       "      <td>0</td>\n",
       "      <td>0</td>\n",
       "      <td>1</td>\n",
       "    </tr>\n",
       "    <tr>\n",
       "      <th>640</th>\n",
       "      <td>1</td>\n",
       "      <td>0</td>\n",
       "      <td>0.110593</td>\n",
       "      <td>0</td>\n",
       "      <td>0</td>\n",
       "      <td>0</td>\n",
       "      <td>0</td>\n",
       "      <td>0</td>\n",
       "      <td>0</td>\n",
       "      <td>0</td>\n",
       "      <td>0</td>\n",
       "      <td>0</td>\n",
       "      <td>0</td>\n",
       "      <td>1</td>\n",
       "      <td>0</td>\n",
       "      <td>0</td>\n",
       "      <td>1</td>\n",
       "    </tr>\n",
       "  </tbody>\n",
       "</table>\n",
       "</div>"
      ],
      "text/plain": [
       "     yr  holiday  windspeed  aug  dec  feb  jan  july  june  may  nov  sep  \\\n",
       "683   1        0   0.327101    0    0    0    0     0     0    0    1    0   \n",
       "645   1        1   0.419004    0    0    0    0     0     0    0    0    0   \n",
       "163   0        0   0.708724    0    0    0    0     0     1    0    0    0   \n",
       "360   0        0   0.415925    0    1    0    0     0     0    0    0    0   \n",
       "640   1        0   0.110593    0    0    0    0     0     0    0    0    0   \n",
       "\n",
       "     summer  winter  sun  Light_snowrain  Misty  \n",
       "683       0       1    0               0      1  \n",
       "645       0       1    0               0      1  \n",
       "163       1       0    0               0      0  \n",
       "360       0       0    0               0      1  \n",
       "640       0       1    0               0      1  "
      ]
     },
     "execution_count": 52,
     "metadata": {},
     "output_type": "execute_result"
    }
   ],
   "source": [
    "X_train.head()"
   ]
  },
  {
   "cell_type": "code",
   "execution_count": 53,
   "id": "b2adba06-1c05-471b-b634-cae1d3d98b02",
   "metadata": {},
   "outputs": [],
   "source": [
    "y_train_pred = lr_8.predict(X_train_l8)"
   ]
  },
  {
   "cell_type": "code",
   "execution_count": 54,
   "id": "c5dfa63c-2c20-41a2-a895-09da3a96c49f",
   "metadata": {},
   "outputs": [
    {
     "data": {
      "text/plain": [
       "Text(0.5, 0, 'Errors')"
      ]
     },
     "execution_count": 54,
     "metadata": {},
     "output_type": "execute_result"
    },
    {
     "data": {
      "image/png": "[encoded data removed]",
      "text/plain": [
       "<Figure size 432x288 with 1 Axes>"
      ]
     },
     "metadata": {
      "needs_background": "light"
     },
     "output_type": "display_data"
    }
   ],
   "source": [
    "fig = plt.figure()\n",
    "sns.distplot((y_train - y_train_pred), bins = 20)\n",
    "fig.suptitle('Error Terms', fontsize = 20) \n",
    "plt.xlabel('Errors', fontsize = 18)"
   ]
  },
  {
   "cell_type": "markdown",
   "id": "13cd2fa0-00a6-4c92-98d5-42836cb5d282",
   "metadata": {},
   "source": [
    "> __The error distribution has the form of a Normal distribution__"
   ]
  },
  {
   "cell_type": "markdown",
   "id": "f78c821d-a6b3-44df-b2d9-08c9bd282ef9",
   "metadata": {},
   "source": [
    "## Apply to find the final model factor"
   ]
  },
  {
   "cell_type": "code",
   "execution_count": 55,
   "id": "3f91fc00-cf30-4494-90a7-efc2f724e234",
   "metadata": {},
   "outputs": [],
   "source": [
    "sclCol = ['temp','hum','windspeed','cnt']\n",
    "df_test[sclCol] = mms.transform(df_test[sclCol])\n",
    "y_test = df_test.pop('cnt')\n",
    "X_test = df_test"
   ]
  },
  {
   "cell_type": "code",
   "execution_count": 56,
   "id": "08232b23-0fc9-449a-b44a-b641a2eb0ee9",
   "metadata": {},
   "outputs": [],
   "source": [
    "col1 = X_train.columns\n",
    "X_test = X_test[col1]\n",
    "X_test_l8 = sm.add_constant(X_test)\n",
    "y_pred = lr_8.predict(X_test_l8)"
   ]
  },
  {
   "cell_type": "code",
   "execution_count": 57,
   "id": "1ec0f00f-d0ad-4c50-b540-1f12c87bd252",
   "metadata": {},
   "outputs": [
    {
     "data": {
      "text/plain": [
       "(0.07084130786177317,\n",
       " 1.1450752551138106,\n",
       " 0.03556302577907391,\n",
       " 1.1097969730311115)"
      ]
     },
     "execution_count": 57,
     "metadata": {},
     "output_type": "execute_result"
    },
    {
     "data": {
      "image/png": "[encoded data removed]",
      "text/plain": [
       "<Figure size 432x288 with 1 Axes>"
      ]
     },
     "metadata": {
      "needs_background": "light"
     },
     "output_type": "display_data"
    }
   ],
   "source": [
    "g=plt.scatter(y_test, y_pred)\n",
    "g.axes.set_yscale('log')\n",
    "g.axes.set_xscale('log')\n",
    "g.axes.set_xlabel('True Values ')\n",
    "g.axes.set_ylabel('Predictions ')\n",
    "g.axes.axis('equal')\n",
    "g.axes.axis('square')"
   ]
  },
  {
   "cell_type": "code",
   "execution_count": 58,
   "id": "4202b0e4-09d2-496f-9d56-fe93129da2c9",
   "metadata": {},
   "outputs": [
    {
     "data": {
      "text/plain": [
       "[<matplotlib.lines.Line2D at 0x18cf1827eb0>]"
      ]
     },
     "execution_count": 58,
     "metadata": {},
     "output_type": "execute_result"
    },
    {
     "data": {
      "image/png": "[encoded data removed]",
      "text/plain": [
       "<Figure size 432x288 with 1 Axes>"
      ]
     },
     "metadata": {
      "needs_background": "light"
     },
     "output_type": "display_data"
    }
   ],
   "source": [
    "plt.plot(y_test - y_pred,marker='o',linestyle='')"
   ]
  },
  {
   "cell_type": "markdown",
   "id": "0b531e47-9ec3-48b9-bcc6-54f09d96a7b5",
   "metadata": {},
   "source": [
    "__We see that the error when small is in the range -0.2 to 0.2__"
   ]
  },
  {
   "cell_type": "code",
   "execution_count": 59,
   "id": "ea924b40-6732-49c6-af86-82494f315e85",
   "metadata": {},
   "outputs": [
    {
     "data": {
      "text/plain": [
       "0.8139053962982666"
      ]
     },
     "execution_count": 59,
     "metadata": {},
     "output_type": "execute_result"
    }
   ],
   "source": [
    "r2 = r2_score(y_test, y_pred)\n",
    "r2"
   ]
  },
  {
   "cell_type": "markdown",
   "id": "0038e458-71b2-4e3b-b04f-ea8f55db8fc0",
   "metadata": {},
   "source": [
    "## r2 = 0.8139 This is not a bad result, but not necessarily the best one either. We can apply more R-Adjust or Deep learning to achieve better results"
   ]
  },
  {
   "cell_type": "code",
   "execution_count": null,
   "id": "10377d80-586f-451b-8886-852d56293d99",
   "metadata": {},
   "outputs": [],
   "source": []
  }
 ],
 "metadata": {
  "kernelspec": {
   "display_name": "Python 3 (ipykernel)",
   "language": "python",
   "name": "python3"
  },
  "language_info": {
   "codemirror_mode": {
    "name": "ipython",
    "version": 3
   },
   "file_extension": ".py",
   "mimetype": "text/x-python",
   "name": "python",
   "nbconvert_exporter": "python",
   "pygments_lexer": "ipython3",
   "version": "3.8.8"
  }
 },
 "nbformat": 4,
 "nbformat_minor": 5
}
